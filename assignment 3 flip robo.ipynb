{
 "cells": [
  {
   "cell_type": "code",
   "execution_count": 1,
   "id": "2608f6d1",
   "metadata": {},
   "outputs": [],
   "source": [
    "import selenium \n",
    "import pandas as pd\n",
    "from selenium import webdriver\n",
    "import warnings\n",
    "warnings.filterwarnings('ignore')"
   ]
  },
  {
   "cell_type": "code",
   "execution_count": 2,
   "id": "770a1af9",
   "metadata": {},
   "outputs": [],
   "source": [
    "from selenium.common.exceptions import StaleElementReferenceException, NoSuchElementException"
   ]
  },
  {
   "cell_type": "code",
   "execution_count": 3,
   "id": "8706ca82",
   "metadata": {},
   "outputs": [],
   "source": [
    "driver= webdriver.Chrome('C:/Users/ankit/Downloads/chromedriver_win32/chromedriver.exe')"
   ]
  },
  {
   "cell_type": "code",
   "execution_count": 27,
   "id": "0c31c536",
   "metadata": {},
   "outputs": [],
   "source": [
    "driver.get('https://www.amazon.in/')"
   ]
  },
  {
   "cell_type": "code",
   "execution_count": 28,
   "id": "aaf817e9",
   "metadata": {},
   "outputs": [],
   "source": [
    "search=driver.find_element_by_id(\"twotabsearchtextbox\")\n",
    "click=driver.find_element_by_id(\"nav-search-submit-button\")\n",
    "search.send_keys('guitar')\n",
    "click.click()"
   ]
  },
  {
   "cell_type": "code",
   "execution_count": 29,
   "id": "62b2f91d",
   "metadata": {},
   "outputs": [
    {
     "data": {
      "text/plain": [
       "[<selenium.webdriver.remote.webelement.WebElement (session=\"e2c01f6d67cb4fd23f8470e41ff6ba6b\", element=\"f4c8f5b6-bd22-4a15-be84-b5b75853af1f\")>,\n",
       " <selenium.webdriver.remote.webelement.WebElement (session=\"e2c01f6d67cb4fd23f8470e41ff6ba6b\", element=\"4beffd39-f5b4-4741-a659-9b928079855a\")>,\n",
       " <selenium.webdriver.remote.webelement.WebElement (session=\"e2c01f6d67cb4fd23f8470e41ff6ba6b\", element=\"6f642e32-5453-43ef-9c03-564fdd88a9d4\")>,\n",
       " <selenium.webdriver.remote.webelement.WebElement (session=\"e2c01f6d67cb4fd23f8470e41ff6ba6b\", element=\"7578400a-66c4-47f2-aa08-4b65b52e741f\")>,\n",
       " <selenium.webdriver.remote.webelement.WebElement (session=\"e2c01f6d67cb4fd23f8470e41ff6ba6b\", element=\"e883f1f5-b9cc-4577-9580-b8a1eb5beb22\")>,\n",
       " <selenium.webdriver.remote.webelement.WebElement (session=\"e2c01f6d67cb4fd23f8470e41ff6ba6b\", element=\"6328eccb-a857-4a35-b111-7659f2973571\")>,\n",
       " <selenium.webdriver.remote.webelement.WebElement (session=\"e2c01f6d67cb4fd23f8470e41ff6ba6b\", element=\"7ede164a-8a57-44f0-b81a-63606a4be0e7\")>,\n",
       " <selenium.webdriver.remote.webelement.WebElement (session=\"e2c01f6d67cb4fd23f8470e41ff6ba6b\", element=\"7c3ffc9d-4f18-4120-be7a-07154ffeccff\")>,\n",
       " <selenium.webdriver.remote.webelement.WebElement (session=\"e2c01f6d67cb4fd23f8470e41ff6ba6b\", element=\"1f250ae5-26ca-4124-b24e-2c10ae656adc\")>,\n",
       " <selenium.webdriver.remote.webelement.WebElement (session=\"e2c01f6d67cb4fd23f8470e41ff6ba6b\", element=\"5f1c1186-9a68-42af-a1a4-b8a874ebb6a8\")>,\n",
       " <selenium.webdriver.remote.webelement.WebElement (session=\"e2c01f6d67cb4fd23f8470e41ff6ba6b\", element=\"f07fb8af-cd37-4242-9deb-ebe73ae88b06\")>,\n",
       " <selenium.webdriver.remote.webelement.WebElement (session=\"e2c01f6d67cb4fd23f8470e41ff6ba6b\", element=\"163694e0-0e5a-4882-8046-05f8b8a5f94d\")>,\n",
       " <selenium.webdriver.remote.webelement.WebElement (session=\"e2c01f6d67cb4fd23f8470e41ff6ba6b\", element=\"e34e9622-0f94-426a-8ec0-ee338ae3fbd9\")>,\n",
       " <selenium.webdriver.remote.webelement.WebElement (session=\"e2c01f6d67cb4fd23f8470e41ff6ba6b\", element=\"0ef0f9ee-a75c-45a4-a115-445e0deee20f\")>,\n",
       " <selenium.webdriver.remote.webelement.WebElement (session=\"e2c01f6d67cb4fd23f8470e41ff6ba6b\", element=\"e395cb0c-7bb7-4ead-ae6d-52708c3892c8\")>,\n",
       " <selenium.webdriver.remote.webelement.WebElement (session=\"e2c01f6d67cb4fd23f8470e41ff6ba6b\", element=\"21385830-12e8-4f98-ab16-89696dc30171\")>,\n",
       " <selenium.webdriver.remote.webelement.WebElement (session=\"e2c01f6d67cb4fd23f8470e41ff6ba6b\", element=\"1b519f24-941b-4d66-89ea-0326e1b2b0ef\")>,\n",
       " <selenium.webdriver.remote.webelement.WebElement (session=\"e2c01f6d67cb4fd23f8470e41ff6ba6b\", element=\"7ab0f69f-ad58-4fcd-b448-d36e2f24a731\")>,\n",
       " <selenium.webdriver.remote.webelement.WebElement (session=\"e2c01f6d67cb4fd23f8470e41ff6ba6b\", element=\"31ad9e08-4fd2-454d-b15a-979e856ca1bb\")>,\n",
       " <selenium.webdriver.remote.webelement.WebElement (session=\"e2c01f6d67cb4fd23f8470e41ff6ba6b\", element=\"b9104ac8-0ed2-4685-91fa-d15f89d3fbfb\")>,\n",
       " <selenium.webdriver.remote.webelement.WebElement (session=\"e2c01f6d67cb4fd23f8470e41ff6ba6b\", element=\"a269a143-60bd-4581-b0d7-eb79cedcb6f8\")>,\n",
       " <selenium.webdriver.remote.webelement.WebElement (session=\"e2c01f6d67cb4fd23f8470e41ff6ba6b\", element=\"76d28fef-4be5-46e7-a9df-d114592714b7\")>,\n",
       " <selenium.webdriver.remote.webelement.WebElement (session=\"e2c01f6d67cb4fd23f8470e41ff6ba6b\", element=\"24c2f797-8a80-49ff-ad7a-5429efbed528\")>,\n",
       " <selenium.webdriver.remote.webelement.WebElement (session=\"e2c01f6d67cb4fd23f8470e41ff6ba6b\", element=\"98e3524f-6ac5-4ded-97e9-791e30fe0179\")>,\n",
       " <selenium.webdriver.remote.webelement.WebElement (session=\"e2c01f6d67cb4fd23f8470e41ff6ba6b\", element=\"bbaf9a10-6d61-4368-9919-46c759eef790\")>,\n",
       " <selenium.webdriver.remote.webelement.WebElement (session=\"e2c01f6d67cb4fd23f8470e41ff6ba6b\", element=\"febd6856-e1a8-4c06-b199-d7583fd3450e\")>,\n",
       " <selenium.webdriver.remote.webelement.WebElement (session=\"e2c01f6d67cb4fd23f8470e41ff6ba6b\", element=\"cb44f53b-e958-4c90-936d-4397824e8793\")>,\n",
       " <selenium.webdriver.remote.webelement.WebElement (session=\"e2c01f6d67cb4fd23f8470e41ff6ba6b\", element=\"b060d866-22a9-4d4a-856f-ca2193ee8a24\")>,\n",
       " <selenium.webdriver.remote.webelement.WebElement (session=\"e2c01f6d67cb4fd23f8470e41ff6ba6b\", element=\"5d2fbe48-4940-4c7a-879f-44d562c56248\")>,\n",
       " <selenium.webdriver.remote.webelement.WebElement (session=\"e2c01f6d67cb4fd23f8470e41ff6ba6b\", element=\"aa8538a5-36c5-4a03-851f-757b7bf5ae28\")>,\n",
       " <selenium.webdriver.remote.webelement.WebElement (session=\"e2c01f6d67cb4fd23f8470e41ff6ba6b\", element=\"6a05513d-34ec-4a43-bf6e-fae3cd3891c1\")>,\n",
       " <selenium.webdriver.remote.webelement.WebElement (session=\"e2c01f6d67cb4fd23f8470e41ff6ba6b\", element=\"51c1124f-2fde-4bbf-a80e-39ad44e6ce5f\")>,\n",
       " <selenium.webdriver.remote.webelement.WebElement (session=\"e2c01f6d67cb4fd23f8470e41ff6ba6b\", element=\"0f093584-ab24-44a1-b013-12f724f8f36d\")>,\n",
       " <selenium.webdriver.remote.webelement.WebElement (session=\"e2c01f6d67cb4fd23f8470e41ff6ba6b\", element=\"876597fc-69a4-42d9-9a20-f6fbfb14c117\")>,\n",
       " <selenium.webdriver.remote.webelement.WebElement (session=\"e2c01f6d67cb4fd23f8470e41ff6ba6b\", element=\"f33d0a24-4ee7-4fa7-ac8d-afffe5f2b0f1\")>,\n",
       " <selenium.webdriver.remote.webelement.WebElement (session=\"e2c01f6d67cb4fd23f8470e41ff6ba6b\", element=\"42c4c786-74de-431b-99f9-680dc847bdd7\")>,\n",
       " <selenium.webdriver.remote.webelement.WebElement (session=\"e2c01f6d67cb4fd23f8470e41ff6ba6b\", element=\"70bd68c7-1462-4c70-ad76-ddfa4a32f191\")>,\n",
       " <selenium.webdriver.remote.webelement.WebElement (session=\"e2c01f6d67cb4fd23f8470e41ff6ba6b\", element=\"dd3a65cb-cb4c-4b19-8d7b-8b4881b27109\")>,\n",
       " <selenium.webdriver.remote.webelement.WebElement (session=\"e2c01f6d67cb4fd23f8470e41ff6ba6b\", element=\"8aeb144c-9054-4ed5-87ed-43f3186784f7\")>,\n",
       " <selenium.webdriver.remote.webelement.WebElement (session=\"e2c01f6d67cb4fd23f8470e41ff6ba6b\", element=\"a14889e9-8466-4ac9-8ea0-f483efac7baa\")>,\n",
       " <selenium.webdriver.remote.webelement.WebElement (session=\"e2c01f6d67cb4fd23f8470e41ff6ba6b\", element=\"a72d0cd8-422d-40b1-a45b-fc51e4a212d6\")>,\n",
       " <selenium.webdriver.remote.webelement.WebElement (session=\"e2c01f6d67cb4fd23f8470e41ff6ba6b\", element=\"e0bf76e2-e958-48fb-adb2-2e61524b216e\")>,\n",
       " <selenium.webdriver.remote.webelement.WebElement (session=\"e2c01f6d67cb4fd23f8470e41ff6ba6b\", element=\"469a8417-cad2-4ac7-87e3-af1218db3774\")>,\n",
       " <selenium.webdriver.remote.webelement.WebElement (session=\"e2c01f6d67cb4fd23f8470e41ff6ba6b\", element=\"7482c055-f0ed-49e4-9d2a-8f17cd9128f0\")>,\n",
       " <selenium.webdriver.remote.webelement.WebElement (session=\"e2c01f6d67cb4fd23f8470e41ff6ba6b\", element=\"5ac90da0-a686-4982-9f22-402f23f15a96\")>,\n",
       " <selenium.webdriver.remote.webelement.WebElement (session=\"e2c01f6d67cb4fd23f8470e41ff6ba6b\", element=\"13c2d773-7e53-4663-901f-14f42fbfc467\")>,\n",
       " <selenium.webdriver.remote.webelement.WebElement (session=\"e2c01f6d67cb4fd23f8470e41ff6ba6b\", element=\"9fac2ddc-4a2a-46fe-97d4-a027484ee215\")>,\n",
       " <selenium.webdriver.remote.webelement.WebElement (session=\"e2c01f6d67cb4fd23f8470e41ff6ba6b\", element=\"241e5d67-738b-443d-8a41-bb2e9f84175a\")>,\n",
       " <selenium.webdriver.remote.webelement.WebElement (session=\"e2c01f6d67cb4fd23f8470e41ff6ba6b\", element=\"f3661f2f-458f-410b-87a2-5d7e3ef67b59\")>,\n",
       " <selenium.webdriver.remote.webelement.WebElement (session=\"e2c01f6d67cb4fd23f8470e41ff6ba6b\", element=\"3b1f5524-089c-4fe5-bfe6-c9ce535f599c\")>,\n",
       " <selenium.webdriver.remote.webelement.WebElement (session=\"e2c01f6d67cb4fd23f8470e41ff6ba6b\", element=\"45fc6604-ca2d-4b48-9c0f-722a34475268\")>,\n",
       " <selenium.webdriver.remote.webelement.WebElement (session=\"e2c01f6d67cb4fd23f8470e41ff6ba6b\", element=\"7ee4d729-4943-4258-af84-dff93c9c80b3\")>,\n",
       " <selenium.webdriver.remote.webelement.WebElement (session=\"e2c01f6d67cb4fd23f8470e41ff6ba6b\", element=\"a46b43a9-bcea-4e6d-a129-fc907b055928\")>,\n",
       " <selenium.webdriver.remote.webelement.WebElement (session=\"e2c01f6d67cb4fd23f8470e41ff6ba6b\", element=\"8d1a49bd-0932-42e9-867c-e604718017b1\")>,\n",
       " <selenium.webdriver.remote.webelement.WebElement (session=\"e2c01f6d67cb4fd23f8470e41ff6ba6b\", element=\"804fc6ae-88d9-4164-b819-aba3009ebed3\")>,\n",
       " <selenium.webdriver.remote.webelement.WebElement (session=\"e2c01f6d67cb4fd23f8470e41ff6ba6b\", element=\"54767749-d36c-4442-980e-3a3e450d21d7\")>,\n",
       " <selenium.webdriver.remote.webelement.WebElement (session=\"e2c01f6d67cb4fd23f8470e41ff6ba6b\", element=\"0f565ece-5167-4293-bf43-86c974af160d\")>,\n",
       " <selenium.webdriver.remote.webelement.WebElement (session=\"e2c01f6d67cb4fd23f8470e41ff6ba6b\", element=\"46678333-a64b-4190-8d05-933dcf8e70af\")>,\n",
       " <selenium.webdriver.remote.webelement.WebElement (session=\"e2c01f6d67cb4fd23f8470e41ff6ba6b\", element=\"29cb89b1-2cbd-4235-9cae-22b04e794ca7\")>,\n",
       " <selenium.webdriver.remote.webelement.WebElement (session=\"e2c01f6d67cb4fd23f8470e41ff6ba6b\", element=\"724d84fe-8bd1-478a-a1e4-43892be60344\")>,\n",
       " <selenium.webdriver.remote.webelement.WebElement (session=\"e2c01f6d67cb4fd23f8470e41ff6ba6b\", element=\"d5638bc3-7ec4-40d7-a660-5cf11feeb54c\")>,\n",
       " <selenium.webdriver.remote.webelement.WebElement (session=\"e2c01f6d67cb4fd23f8470e41ff6ba6b\", element=\"2cbf7364-0a00-4190-ae96-4f21ba835e3c\")>,\n",
       " <selenium.webdriver.remote.webelement.WebElement (session=\"e2c01f6d67cb4fd23f8470e41ff6ba6b\", element=\"2d5b0d07-59ff-4f79-a58d-8413a3590db6\")>,\n",
       " <selenium.webdriver.remote.webelement.WebElement (session=\"e2c01f6d67cb4fd23f8470e41ff6ba6b\", element=\"0c9ad593-7517-4070-893a-c59edb6d6375\")>,\n",
       " <selenium.webdriver.remote.webelement.WebElement (session=\"e2c01f6d67cb4fd23f8470e41ff6ba6b\", element=\"5acb74e0-65a3-4d00-8538-814e5551ed3c\")>,\n",
       " <selenium.webdriver.remote.webelement.WebElement (session=\"e2c01f6d67cb4fd23f8470e41ff6ba6b\", element=\"63658bcd-c497-4af2-b7aa-bb60e1ff706d\")>,\n",
       " <selenium.webdriver.remote.webelement.WebElement (session=\"e2c01f6d67cb4fd23f8470e41ff6ba6b\", element=\"c61a37cd-d880-490a-a7c4-69d521ba254c\")>,\n",
       " <selenium.webdriver.remote.webelement.WebElement (session=\"e2c01f6d67cb4fd23f8470e41ff6ba6b\", element=\"7cdf3e72-780a-44d8-9ae9-49834418e5d4\")>]"
      ]
     },
     "execution_count": 29,
     "metadata": {},
     "output_type": "execute_result"
    }
   ],
   "source": [
    "product=driver.find_elements_by_xpath('//h2[@class=\"a-size-mini a-spacing-none a-color-base s-line-clamp-4\"]')\n",
    "product"
   ]
  },
  {
   "cell_type": "code",
   "execution_count": 30,
   "id": "6cf2c982",
   "metadata": {},
   "outputs": [
    {
     "data": {
      "text/plain": [
       "['https://www.amazon.in/gp/slredirect/picassoRedirect.html/ref=pa_sp_atf_aps_sr_pg1_1?ie=UTF8&adId=A100976119ONHKLJMFAMG&url=%2FKadence-Slowhand-Premium-Acoustic-Instrument%2Fdp%2FB077SZ667X%2Fref%3Dsr_1_1_sspa%3Fkeywords%3Dguitar%26qid%3D1639660703%26sr%3D8-1-spons%26psc%3D1&qualifier=1639660703&id=6152918705851977&widgetName=sp_atf',\n",
       " 'https://www.amazon.in/gp/slredirect/picassoRedirect.html/ref=pa_sp_atf_aps_sr_pg1_1?ie=UTF8&adId=A061107531TUGN5RHMV0N&url=%2FKadence-Frontier-Acoustic-Guitar-Strings%2Fdp%2FB01GDZ46AA%2Fref%3Dsr_1_2_sspa%3Fkeywords%3Dguitar%26qid%3D1639660703%26sr%3D8-2-spons%26psc%3D1%26smid%3DAM04Z7MH4HSDD&qualifier=1639660703&id=6152918705851977&widgetName=sp_atf',\n",
       " 'https://www.amazon.in/gp/slredirect/picassoRedirect.html/ref=pa_sp_atf_aps_sr_pg1_1?ie=UTF8&adId=A095440635KGJ07453PMQ&url=%2FJuarez-Acoustic-Guitar-Cutaway-Strings%2Fdp%2FB076QHZ4HZ%2Fref%3Dsr_1_3_sspa%3Fkeywords%3Dguitar%26qid%3D1639660703%26sr%3D8-3-spons%26psc%3D1&qualifier=1639660703&id=6152918705851977&widgetName=sp_atf',\n",
       " 'https://www.amazon.in/gp/slredirect/picassoRedirect.html/ref=pa_sp_atf_aps_sr_pg1_1?ie=UTF8&adId=A02397962VEX1S66AA5PX&url=%2FVault-ST1-Premium-Electric-Guitar%2Fdp%2FB09GLYSJ8W%2Fref%3Dsr_1_4_sspa%3Fkeywords%3Dguitar%26qid%3D1639660703%26sr%3D8-4-spons%26psc%3D1&qualifier=1639660703&id=6152918705851977&widgetName=sp_atf',\n",
       " 'https://www.amazon.in/Intern-INT-38C-Acoustic-Guitar-Black/dp/B073B6TQQY/ref=sr_1_5?keywords=guitar&qid=1639660703&sr=8-5',\n",
       " 'https://www.amazon.in/Juarez-Acoustic-Cutaway-038C-Strings/dp/B017NPCSLI/ref=sr_1_6?keywords=guitar&qid=1639660703&sr=8-6',\n",
       " 'https://www.amazon.in/Intern-INT-38C-Sunburst-Acoustic-Guitar/dp/B07X1J4D3Z/ref=sr_1_7?keywords=guitar&qid=1639660703&sr=8-7',\n",
       " 'https://www.amazon.in/AmazonBasics-Adjustable-Guitar-Electric-Acoustic/dp/B07QNKRMB3/ref=sxin_13_trfob_obrv2_0_B07QNKRMB3?cv_ct_cx=guitar&keywords=guitar&pd_rd_i=B07QNKRMB3&pd_rd_r=820e3326-c5a8-4683-89c9-85e620e5e305&pd_rd_w=olKSC&pd_rd_wg=hBpy9&pf_rd_p=8dc87148-c071-4687-b69d-75f819e94d93&pf_rd_r=WJGWWFZ4X9F17SV7ESYK&qid=1639660703&sr=1-1-0ebec975-bf88-4752-a25f-77f835187931',\n",
       " 'https://www.amazon.in/AmazonBasics-Adjustable-Guitar-Electric-Acoustic/dp/B07T6NNQCJ/ref=sxin_13_trfob_obrv2_1_B07T6NNQCJ?cv_ct_cx=guitar&keywords=guitar&pd_rd_i=B07T6NNQCJ&pd_rd_r=820e3326-c5a8-4683-89c9-85e620e5e305&pd_rd_w=olKSC&pd_rd_wg=hBpy9&pf_rd_p=8dc87148-c071-4687-b69d-75f819e94d93&pf_rd_r=WJGWWFZ4X9F17SV7ESYK&qid=1639660703&sr=1-2-0ebec975-bf88-4752-a25f-77f835187931',\n",
       " 'https://www.amazon.in/AmazonBasics-Adjustable-Guitar-Electric-Acoustic/dp/B07QLS8T7M/ref=sxin_13_trfob_obrv2_2_B07QLS8T7M?cv_ct_cx=guitar&keywords=guitar&pd_rd_i=B07QLS8T7M&pd_rd_r=820e3326-c5a8-4683-89c9-85e620e5e305&pd_rd_w=olKSC&pd_rd_wg=hBpy9&pf_rd_p=8dc87148-c071-4687-b69d-75f819e94d93&pf_rd_r=WJGWWFZ4X9F17SV7ESYK&qid=1639660703&sr=1-3-0ebec975-bf88-4752-a25f-77f835187931',\n",
       " 'https://www.amazon.in/AmazonBasics-Adjustable-Guitar-Electric-Acoustic/dp/B07QLRYD23/ref=sxin_13_trfob_obrv2_3_B07QLRYD23?cv_ct_cx=guitar&keywords=guitar&pd_rd_i=B07QLRYD23&pd_rd_r=820e3326-c5a8-4683-89c9-85e620e5e305&pd_rd_w=olKSC&pd_rd_wg=hBpy9&pf_rd_p=8dc87148-c071-4687-b69d-75f819e94d93&pf_rd_r=WJGWWFZ4X9F17SV7ESYK&qid=1639660703&sr=1-4-0ebec975-bf88-4752-a25f-77f835187931',\n",
       " 'https://www.amazon.in/AmazonBasics-Adjustable-Guitar-Electric-Acoustic/dp/B07QKTLN2Z/ref=sxin_13_trfob_obrv2_4_B07QKTLN2Z?cv_ct_cx=guitar&keywords=guitar&pd_rd_i=B07QKTLN2Z&pd_rd_r=820e3326-c5a8-4683-89c9-85e620e5e305&pd_rd_w=olKSC&pd_rd_wg=hBpy9&pf_rd_p=8dc87148-c071-4687-b69d-75f819e94d93&pf_rd_r=WJGWWFZ4X9F17SV7ESYK&qid=1639660703&sr=1-5-0ebec975-bf88-4752-a25f-77f835187931',\n",
       " 'https://www.amazon.in/AmazonBasics-Adjustable-Guitar-Electric-Acoustic/dp/B07QKCR86H/ref=sxin_13_trfob_obrv2_5_B07QKCR86H?cv_ct_cx=guitar&keywords=guitar&pd_rd_i=B07QKCR86H&pd_rd_r=820e3326-c5a8-4683-89c9-85e620e5e305&pd_rd_w=olKSC&pd_rd_wg=hBpy9&pf_rd_p=8dc87148-c071-4687-b69d-75f819e94d93&pf_rd_r=WJGWWFZ4X9F17SV7ESYK&qid=1639660703&sr=1-6-0ebec975-bf88-4752-a25f-77f835187931',\n",
       " 'https://www.amazon.in/AmazonBasics-Adjustable-Guitar-Electric-Acoustic/dp/B07QH5CYPG/ref=sxin_13_trfob_obrv2_6_B07QH5CYPG?cv_ct_cx=guitar&keywords=guitar&pd_rd_i=B07QH5CYPG&pd_rd_r=820e3326-c5a8-4683-89c9-85e620e5e305&pd_rd_w=olKSC&pd_rd_wg=hBpy9&pf_rd_p=8dc87148-c071-4687-b69d-75f819e94d93&pf_rd_r=WJGWWFZ4X9F17SV7ESYK&qid=1639660703&sr=1-7-0ebec975-bf88-4752-a25f-77f835187931',\n",
       " 'https://www.amazon.in/AmazonBasics-Acoustic-Guitar-Strings-Aluminum/dp/B07WNWTQNT/ref=sxin_13_trfob_obrv2_7_B07WNWTQNT?cv_ct_cx=guitar&keywords=guitar&pd_rd_i=B07WNWTQNT&pd_rd_r=820e3326-c5a8-4683-89c9-85e620e5e305&pd_rd_w=olKSC&pd_rd_wg=hBpy9&pf_rd_p=8dc87148-c071-4687-b69d-75f819e94d93&pf_rd_r=WJGWWFZ4X9F17SV7ESYK&qid=1639660703&sr=1-8-0ebec975-bf88-4752-a25f-77f835187931',\n",
       " 'https://www.amazon.in/Juarez-Acoustic-Guitar-Cutaway-Strings/dp/B076QHZ4HZ/ref=sr_1_8?keywords=guitar&qid=1639660703&sr=8-8',\n",
       " 'https://www.amazon.in/JUAREZ-JRZ38C-Acoustic-Sunburst-Strings/dp/B01FYYTDS6/ref=sr_1_9?keywords=guitar&qid=1639660703&sr=8-9',\n",
       " 'https://www.amazon.in/JUAREZ-JRZ38C-Acoustic-Sunburst-Strings/dp/B01FYYTDTU/ref=sr_1_10?keywords=guitar&qid=1639660703&sr=8-10',\n",
       " 'https://www.amazon.in/Yamaha-Classical-Guitar-C40-02/dp/B003UGCUFE/ref=sr_1_11?keywords=guitar&qid=1639660703&sr=8-11',\n",
       " 'https://www.amazon.in/Acoustic-Cutaway-RDS-Strings-Sunburst/dp/B076QGY91P/ref=sr_1_12?keywords=guitar&qid=1639660703&sr=8-12',\n",
       " 'https://www.amazon.in/Kadence-Frontier-Acoustic-Guitar-Strings/dp/B078GTJP5Y/ref=sr_1_13?keywords=guitar&qid=1639660703&sr=8-13',\n",
       " 'https://www.amazon.in/Rosewood-Fretboard-Acoustic-Strings-K-Retail/dp/B07KLG8C4P/ref=sr_1_14?keywords=guitar&qid=1639660703&sr=8-14',\n",
       " 'https://www.amazon.in/Intern-INT-38C-RD-G-Guitar-Kit-Red/dp/B07K959RKX/ref=sr_1_15?keywords=guitar&qid=1639660703&sr=8-15',\n",
       " 'https://www.amazon.in/Juarez-Acoustic-Guitar-Cutaway-Strings/dp/B075XMRKMY/ref=sr_1_16?keywords=guitar&qid=1639660703&sr=8-16',\n",
       " 'https://www.amazon.in/Ju%C3%A2rez-JRZ38C-WH-Strings-Acoustic/dp/B072MFK4L6/ref=sr_1_17?keywords=guitar&qid=1639660703&sr=8-17',\n",
       " 'https://www.amazon.in/YAMAHA-NATURAL-CONCERT-CUTAWAY-GUITAR/dp/B08KW4DRKL/ref=sr_1_18?keywords=guitar&qid=1639660703&sr=8-18',\n",
       " 'https://www.amazon.in/Yamaha-Acoustic-Guitar-Tobacco-Sunburst/dp/B08VXR74Q2/ref=sr_1_19?keywords=guitar&qid=1639660703&sr=8-19',\n",
       " 'https://www.amazon.in/JUAREZ-JRZ38C-Handed-Acoustic-Strings/dp/B01FYYTDW2/ref=sr_1_20?keywords=guitar&qid=1639660703&sr=8-20',\n",
       " 'https://www.amazon.in/gp/slredirect/picassoRedirect.html/ref=pa_sp_mtf_aps_sr_pg1_1?ie=UTF8&adId=A0781470356P60BY9NFAO&url=%2FHOMME-STORE-Instrument-Educational-Instruments%2Fdp%2FB09MM9NBZC%2Fref%3Dsr_1_21_sspa%3Fkeywords%3Dguitar%26qid%3D1639660703%26sr%3D8-21-spons%26psc%3D1&qualifier=1639660703&id=6152918705851977&widgetName=sp_mtf',\n",
       " 'https://www.amazon.in/gp/slredirect/picassoRedirect.html/ref=pa_sp_mtf_aps_sr_pg1_1?ie=UTF8&adId=A08790022Y5TKL7GOFMBU&url=%2FCort-AD810-Dreadnought-Acoustic-Guitar%2Fdp%2FB07KMBVR6V%2Fref%3Dsr_1_22_sspa%3Fkeywords%3Dguitar%26qid%3D1639660703%26sr%3D8-22-spons%26psc%3D1%26smid%3DA2E0IZ06LXDJ9X&qualifier=1639660703&id=6152918705851977&widgetName=sp_mtf',\n",
       " 'https://www.amazon.in/gp/slredirect/picassoRedirect.html/ref=pa_sp_mtf_aps_sr_pg1_1?ie=UTF8&adId=A0115848V6MGP80V427Y&url=%2FBlueberry-Acoustic-Guitar-Strings-Picks%2Fdp%2FB08L51YW38%2Fref%3Dsr_1_23_sspa%3Fkeywords%3Dguitar%26qid%3D1639660703%26sr%3D8-23-spons%26psc%3D1&qualifier=1639660703&id=6152918705851977&widgetName=sp_mtf',\n",
       " 'https://www.amazon.in/gp/slredirect/picassoRedirect.html/ref=pa_sp_mtf_aps_sr_pg1_1?ie=UTF8&adId=A0383776CMOCCT2XVKLQ&url=%2FHovner-6-String-Acoustic-Semi-Electric-Guitar%2Fdp%2FB08S3RPFWS%2Fref%3Dsr_1_24_sspa%3Fkeywords%3Dguitar%26qid%3D1639660703%26sr%3D8-24-spons%26psc%3D1&qualifier=1639660703&id=6152918705851977&widgetName=sp_mtf',\n",
       " 'https://www.amazon.in/Henrix-Cutaway-Acoustic-Die-cast-Dual-action/dp/B07VHSCGCG/ref=sr_1_25?keywords=guitar&qid=1639660703&sr=8-25',\n",
       " 'https://www.amazon.in/JUAREZ-JRZ38CTR-BK-Acoustic-Guitar/dp/B08FTZK7H8/ref=sr_1_26?keywords=guitar&qid=1639660703&sr=8-26',\n",
       " 'https://www.amazon.in/Kordz-Luana-Natural-Rosewood-Fretboard/dp/B07V4Y1V9M/ref=sr_1_27?keywords=guitar&qid=1639660703&sr=8-27',\n",
       " 'https://www.amazon.in/Giuson-Venus-Black-Acoustic-Strings/dp/B089GNM189/ref=sr_1_28?keywords=guitar&qid=1639660703&sr=8-28',\n",
       " 'https://www.amazon.in/Juarez-JRZ38C-ASH-Strings-Acoustic/dp/B072JTPNZC/ref=sr_1_29?keywords=guitar&qid=1639660703&sr=8-29',\n",
       " 'https://www.amazon.in/Medellin-Acoustic-specailized-learning-beginners/dp/B09MSGVCDV/ref=sr_1_30?keywords=guitar&qid=1639660703&sr=8-30',\n",
       " 'https://www.amazon.in/Kadence-Acoustica-Acoustic-Guitar-Zebra/dp/B07KXNKLJ2/ref=sr_1_31?keywords=guitar&qid=1639660703&sr=8-31',\n",
       " 'https://www.amazon.in/Yamaha-Acoustic-Guitar-Natural-Bajaao/dp/B08RMP2F6Z/ref=sr_1_32?keywords=guitar&qid=1639660703&sr=8-32',\n",
       " 'https://www.amazon.in/Juarez-Acoustic-Cutaway-BK-Strings/dp/B076T3RHMG/ref=sr_1_33?keywords=guitar&qid=1639660703&sr=8-33',\n",
       " 'https://www.amazon.in/4-String-Acoustic-Musical-Instrument-Learning/dp/B08QGLQVRN/ref=sr_1_34?keywords=guitar&qid=1639660703&sr=8-34',\n",
       " 'https://www.amazon.in/Acoustic-Cutaway-3TS-Strings-Sunburst/dp/B098BD1MHM/ref=sr_1_35?keywords=guitar&qid=1639660703&sr=8-35',\n",
       " 'https://www.amazon.in/FX280-acoustic-Dreadnought-Tobacco-Sunburst/dp/B09HR7BXGW/ref=sr_1_36?keywords=guitar&qid=1639660703&sr=8-36',\n",
       " 'https://www.amazon.in/Cutaway-Electro-Acoustic-Strings-Polishing/dp/B093VHQZGD/ref=sr_1_37?keywords=guitar&qid=1639660703&sr=8-37',\n",
       " 'https://www.amazon.in/Medellin-MED-BLK-C-frontier-guitar-MDCF38SKY/dp/B09MSDP7JS/ref=sr_1_38?keywords=guitar&qid=1639660703&sr=8-38',\n",
       " 'https://www.amazon.in/MEOL-Guitar-4-String-Acoustic-Inches/dp/B08SC5K8R7/ref=sr_1_39?keywords=guitar&qid=1639660703&sr=8-39',\n",
       " 'https://www.amazon.in/Swan7-IB-4-String-Electric-Guitar/dp/B097Y1P681/ref=sr_1_40?keywords=guitar&qid=1639660703&sr=8-40',\n",
       " 'https://www.amazon.in/Techno-Acoustic-DM-39CYE3-acoustic-professional/dp/B0983RVPTS/ref=sr_1_41?keywords=guitar&qid=1639660703&sr=8-41',\n",
       " 'https://www.amazon.in/Kadence-Acoustic-Frontier-Beginners-Plectrum/dp/B09N987YY6/ref=sr_1_42?keywords=guitar&qid=1639660703&sr=8-42',\n",
       " 'https://www.amazon.in/KREEPO-Fretboard-Fingerboard-Acoustic-Electric-Multicolor/dp/B09DWY4ZK2/ref=sr_1_43?keywords=guitar&qid=1639660703&sr=8-43',\n",
       " 'https://www.amazon.in/JRZ38C-Strings-Acoustic-Cutaway-Mahogany/dp/B071JM8C6T/ref=sr_1_44?keywords=guitar&qid=1639660703&sr=8-44',\n",
       " 'https://www.amazon.in/JUAREZ-Electric-Guitar-Handed-Sunburst/dp/B0758HTV7R/ref=sr_1_45?keywords=guitar&qid=1639660703&sr=8-45',\n",
       " 'https://www.amazon.in/Ketostics-Special-Sunburst-Acoustic-Plectrums/dp/B08JCJS3H6/ref=sr_1_46?keywords=guitar&qid=1639660703&sr=8-46',\n",
       " 'https://www.amazon.in/Vault-ST1-Premium-Electric-Guitar/dp/B09GLZV36M/ref=sr_1_47?keywords=guitar&qid=1639660703&sr=8-47',\n",
       " 'https://www.amazon.in/Yamaha-FS-100C-6-String-Acoustic-without/dp/B00PAS9CK6/ref=sr_1_48?keywords=guitar&qid=1639660703&sr=8-48',\n",
       " 'https://www.amazon.in/Strings-Straps-String-winder-Polishing/dp/B07RV9FJ2Z/ref=sr_1_49?keywords=guitar&qid=1639660703&sr=8-49',\n",
       " 'https://www.amazon.in/RockJam-RJEG02-SK-BB-Electric-Guitar-Starter/dp/B0747TD557/ref=sr_1_50?keywords=guitar&qid=1639660703&sr=8-50',\n",
       " 'https://www.amazon.in/FS80C-Ultimate-Acoustic-Bajaao-Bag/dp/B08WHXPWHV/ref=sr_1_51?keywords=guitar&qid=1639660703&sr=8-51',\n",
       " 'https://www.amazon.in/Yamaha-Acoustic-Guitar-Tobacco-Sunburst/dp/B08Z35ZR9Y/ref=sr_1_52?keywords=guitar&qid=1639660703&sr=8-52',\n",
       " 'https://www.amazon.in/JUAREZ-Acoustic-Automatic-Chromatic-Accessories/dp/B083P73Y1T/ref=sr_1_53?keywords=guitar&qid=1639660703&sr=8-53',\n",
       " 'https://www.amazon.in/Kadence-Slowhand-Premium-Acoustic-Instrument/dp/B077SZ667X/ref=sr_1_54?keywords=guitar&qid=1639660703&sr=8-54',\n",
       " 'https://www.amazon.in/Vault-CL-20-size-Classical-Guitar/dp/B097NB12H3/ref=sr_1_55?keywords=guitar&qid=1639660703&sr=8-55',\n",
       " 'https://www.amazon.in/Vault-RG1-Soloist-Electric-Guitar/dp/B09GLZSS95/ref=sr_1_56?keywords=guitar&qid=1639660703&sr=8-56',\n",
       " 'https://www.amazon.in/gp/slredirect/picassoRedirect.html/ref=pa_sp_btf_aps_sr_pg1_1?ie=UTF8&adId=A00398125LVPYCI2ARTB&url=%2FCutaway-Electro-Acoustic-Strings-Polishing%2Fdp%2FB093VHQZGD%2Fref%3Dsr_1_57_sspa%3Fkeywords%3Dguitar%26qid%3D1639660703%26sr%3D8-57-spons%26psc%3D1&qualifier=1639660703&id=6152918705851977&widgetName=sp_btf',\n",
       " 'https://www.amazon.in/gp/slredirect/picassoRedirect.html/ref=pa_sp_btf_aps_sr_pg1_1?ie=UTF8&adId=A087933837LQ4BBEWM3H5&url=%2FGUITAR-BRO-Acoustic-Beginner-Accessories%2Fdp%2FB07T84GC8L%2Fref%3Dsr_1_58_sspa%3Fkeywords%3Dguitar%26qid%3D1639660703%26sr%3D8-58-spons%26psc%3D1&qualifier=1639660703&id=6152918705851977&widgetName=sp_btf',\n",
       " 'https://www.amazon.in/gp/slredirect/picassoRedirect.html/ref=pa_sp_btf_aps_sr_pg1_1?ie=UTF8&adId=A02944302J461ADDWXPJA&url=%2FTechno-DM-41-CYCE-EQ3-Tuner%2Fdp%2FB09813HTJL%2Fref%3Dsr_1_59_sspa%3Fkeywords%3Dguitar%26qid%3D1639660703%26sr%3D8-59-spons%26psc%3D1&qualifier=1639660703&id=6152918705851977&widgetName=sp_btf',\n",
       " 'https://www.amazon.in/gp/slredirect/picassoRedirect.html/ref=pa_sp_btf_aps_sr_pg1_1?ie=UTF8&adId=A029474213ZKH8XT1LX18&url=%2FTechno-DM-41-CYCE-TUNER-professional%2Fdp%2FB0983N8GDT%2Fref%3Dsr_1_60_sspa%3Fkeywords%3Dguitar%26qid%3D1639660703%26sr%3D8-60-spons%26psc%3D1&qualifier=1639660703&id=6152918705851977&widgetName=sp_btf']"
      ]
     },
     "execution_count": 30,
     "metadata": {},
     "output_type": "execute_result"
    }
   ],
   "source": [
    "links=[]\n",
    "for i in product:\n",
    "    p1=i.find_elements_by_tag_name('a')[-1]\n",
    "    links.append(p1.get_property('href'))\n",
    "links"
   ]
  },
  {
   "cell_type": "code",
   "execution_count": 31,
   "id": "5e0c15fb",
   "metadata": {},
   "outputs": [],
   "source": [
    "nextpage=driver.find_element_by_xpath('//li[@class=\"a-last\"]').click()"
   ]
  },
  {
   "cell_type": "code",
   "execution_count": 32,
   "id": "fb234b70",
   "metadata": {},
   "outputs": [],
   "source": [
    "product=driver.find_elements_by_xpath('//h2[@class=\"a-size-mini a-spacing-none a-color-base s-line-clamp-4\"]')"
   ]
  },
  {
   "cell_type": "code",
   "execution_count": 33,
   "id": "f4891c92",
   "metadata": {},
   "outputs": [],
   "source": [
    "links=[]\n",
    "for i in product:\n",
    "    p1=i.find_elements_by_tag_name('a')[-1]\n",
    "    links.append(p1.get_property('href'))"
   ]
  },
  {
   "cell_type": "code",
   "execution_count": 34,
   "id": "77688772",
   "metadata": {},
   "outputs": [],
   "source": [
    "nextpage=driver.find_element_by_xpath('//li[@class=\"a-last\"]').click()"
   ]
  },
  {
   "cell_type": "code",
   "execution_count": 35,
   "id": "17b1f85b",
   "metadata": {},
   "outputs": [],
   "source": [
    "product=driver.find_elements_by_xpath('//h2[@class=\"a-size-mini a-spacing-none a-color-base s-line-clamp-4\"]')"
   ]
  },
  {
   "cell_type": "code",
   "execution_count": 36,
   "id": "fe16f439",
   "metadata": {},
   "outputs": [],
   "source": [
    "links=[]\n",
    "for i in product:\n",
    "    p1=i.find_elements_by_tag_name('a')[-1]\n",
    "    links.append(p1.get_property('href'))"
   ]
  },
  {
   "cell_type": "code",
   "execution_count": 37,
   "id": "65b438d5",
   "metadata": {},
   "outputs": [
    {
     "data": {
      "text/plain": [
       "60"
      ]
     },
     "execution_count": 37,
     "metadata": {},
     "output_type": "execute_result"
    }
   ],
   "source": [
    "len(links)"
   ]
  },
  {
   "cell_type": "code",
   "execution_count": 38,
   "id": "4254fb9c",
   "metadata": {},
   "outputs": [
    {
     "data": {
      "text/plain": [
       "['https://www.amazon.in/gp/slredirect/picassoRedirect.html/ref=pa_sp_atf_next_aps_sr_pg3_1?ie=UTF8&adId=A023995217OB6HZ0YV1Y2&url=%2FVault-ST1-Premium-Electric-Guitar%2Fdp%2FB09GM1N58H%2Fref%3Dsr_1_97_sspa%3Fkeywords%3Dguitar%26qid%3D1639660727%26sr%3D8-97-spons%26psc%3D1&qualifier=1639660727&id=6644878528235584&widgetName=sp_atf_next',\n",
       " 'https://www.amazon.in/gp/slredirect/picassoRedirect.html/ref=pa_sp_atf_next_aps_sr_pg3_1?ie=UTF8&adId=A04996432HBXRI77ZQQKC&url=%2FBlueberry-Acoustic-Guitar-Inbuilt-Strings%2Fdp%2FB07PHZ16BG%2Fref%3Dsr_1_98_sspa%3Fkeywords%3Dguitar%26qid%3D1639660727%26sr%3D8-98-spons%26psc%3D1&qualifier=1639660727&id=6644878528235584&widgetName=sp_atf_next',\n",
       " 'https://www.amazon.in/gp/slredirect/picassoRedirect.html/ref=pa_sp_atf_next_aps_sr_pg3_1?ie=UTF8&adId=A0857417J5BMEDU16IZT&url=%2FBlueberry-38C-Acoustic-Guitar-Strings%2Fdp%2FB08KLMV4XX%2Fref%3Dsr_1_99_sspa%3Fkeywords%3Dguitar%26qid%3D1639660727%26sr%3D8-99-spons%26psc%3D1&qualifier=1639660727&id=6644878528235584&widgetName=sp_atf_next',\n",
       " 'https://www.amazon.in/gp/slredirect/picassoRedirect.html/ref=pa_sp_atf_next_aps_sr_pg3_1?ie=UTF8&adId=A04961992KMYRTM7PPWJO&url=%2FBlueberry-40Inches-Acoustic-inbuilt-Sunburst%2Fdp%2FB07PHFXH6W%2Fref%3Dsr_1_100_sspa%3Fkeywords%3Dguitar%26qid%3D1639660727%26sr%3D8-100-spons%26psc%3D1&qualifier=1639660727&id=6644878528235584&widgetName=sp_atf_next',\n",
       " 'https://www.amazon.in/Festra-Acoustic-Guitar-Strings-Natural/dp/B09JT6C952/ref=sr_1_101?keywords=guitar&qid=1639660727&sr=8-101',\n",
       " 'https://www.amazon.in/JUAREZ-Arpeggio-Acoustic-Rosewood-Fretboard/dp/B08LBHB547/ref=sr_1_102?keywords=guitar&qid=1639660727&sr=8-102',\n",
       " 'https://www.amazon.in/Fender-Dread-String-Acoustic-Guitar/dp/B07RM4B5LJ/ref=sr_1_103?keywords=guitar&qid=1639660727&sr=8-103',\n",
       " 'https://www.amazon.in/NOTION%C2%AE-4-String-Acoustic-Enthusiasm-Learning/dp/B08B8XNTGF/ref=sr_1_104?keywords=guitar&qid=1639660727&sr=8-104',\n",
       " 'https://www.amazon.in/Yamaha-TRBX174-RM-4-String-Electric/dp/B08Y7VQLGV/ref=sr_1_105?keywords=guitar&qid=1639660727&sr=8-105',\n",
       " 'https://www.amazon.in/Kadence-Acoustica-Acoustic-Equlizer-Accessories/dp/B09BVH7BMJ/ref=sr_1_106?keywords=guitar&qid=1639660727&sr=8-106',\n",
       " 'https://www.amazon.in/Yamaha-CPX600-OVS-Acoustic-Electric-Sunburst/dp/B0795S27X4/ref=sr_1_97?keywords=guitar&qid=1639660727&sr=8-97',\n",
       " 'https://www.amazon.in/Belear-K-610MAH-Strings-Acoustic-Dreadnought/dp/B09135Y6D2/ref=sr_1_98?keywords=guitar&qid=1639660727&sr=8-98',\n",
       " 'https://www.amazon.in/Giuson-Venus-Rosewood-Acoustic-Strings/dp/B09FFL198X/ref=sr_1_99?keywords=guitar&qid=1639660727&sr=8-99',\n",
       " 'https://www.amazon.in/LAVINGSTON-Givson-Special-Acoustic-plectrums/dp/B09MB33N4F/ref=sr_1_100?keywords=guitar&qid=1639660727&sr=8-100',\n",
       " 'https://www.amazon.in/JUAREZ-Arpeggio-Semi-Acoustic-Rosewood-Fretboard/dp/B08LBG3F36/ref=sr_1_101?keywords=guitar&qid=1639660727&sr=8-101',\n",
       " 'https://www.amazon.in/Kadence-Acoustic-Frontier-Beginners-Plectrums/dp/B09N9BL7V9/ref=sr_1_102?keywords=guitar&qid=1639660727&sr=8-102',\n",
       " 'https://www.amazon.in/Fender-SA105CE-Electric-Acoustic-Plectrums/dp/B08P8KQ87F/ref=sr_1_103?keywords=guitar&qid=1639660727&sr=8-103',\n",
       " 'https://www.amazon.in/Haibing-Portable-Trainer-Practice-Beginner/dp/B09N8SML5N/ref=sr_1_104?keywords=guitar&qid=1639660727&sr=8-104',\n",
       " 'https://www.amazon.in/GOPINATHJI-Children-Ukulele-Instruments-Beginner/dp/B08RYQJCJS/ref=sr_1_105?keywords=guitar&qid=1639660727&sr=8-105',\n",
       " 'https://www.amazon.in/JUAREZ-Arp%C3%A9ggio-Acoustic-Guitar-Spruce/dp/B08KGCFXKP/ref=sr_1_106?keywords=guitar&qid=1639660727&sr=8-106',\n",
       " 'https://www.amazon.in/gp/slredirect/picassoRedirect.html/ref=pa_sp_mtf_aps_sr_pg3_1?ie=UTF8&adId=A09452362H4BY83H2O7HK&url=%2FFestra-Acoustic-Guitar-Strings-Sunburst%2Fdp%2FB09JTR6N53%2Fref%3Dsr_1_107_sspa%3Fkeywords%3Dguitar%26qid%3D1639660727%26sr%3D8-107-spons%26psc%3D1&qualifier=1639660727&id=6644878528235584&widgetName=sp_mtf',\n",
       " 'https://www.amazon.in/gp/slredirect/picassoRedirect.html/ref=pa_sp_mtf_aps_sr_pg3_1?ie=UTF8&adId=A05008033E4D05DQI3R2B&url=%2FKaps-ST-6-Strings-Acoustic-Right-Handed%2Fdp%2FB01D9OK6NY%2Fref%3Dsr_1_108_sspa%3Fkeywords%3Dguitar%26qid%3D1639660727%26sr%3D8-108-spons%26psc%3D1&qualifier=1639660727&id=6644878528235584&widgetName=sp_mtf',\n",
       " 'https://www.amazon.in/gp/slredirect/picassoRedirect.html/ref=pa_sp_mtf_aps_sr_pg3_1?ie=UTF8&adId=A0487383TFGI7BQC9Q9B&url=%2FBlueberry-Acoustic-Guitar-Strings-Redburst%2Fdp%2FB09N9R525J%2Fref%3Dsr_1_109_sspa%3Fkeywords%3Dguitar%26qid%3D1639660727%26sr%3D8-109-spons%26psc%3D1&qualifier=1639660727&id=6644878528235584&widgetName=sp_mtf',\n",
       " 'https://www.amazon.in/gp/slredirect/picassoRedirect.html/ref=pa_sp_mtf_aps_sr_pg3_1?ie=UTF8&adId=A05004671FZHU1WZYDPYU&url=%2FKaps-St-6-Strings-Acoustic-Right-Handed%2Fdp%2FB01D9OK8LY%2Fref%3Dsr_1_110_sspa%3Fkeywords%3Dguitar%26qid%3D1639660727%26sr%3D8-110-spons%26psc%3D1&qualifier=1639660727&id=6644878528235584&widgetName=sp_mtf',\n",
       " 'https://www.amazon.in/Haibing-Portable-Acoustic-Practice-Fretboard/dp/B09N8Q6ZCL/ref=sr_1_111?keywords=guitar&qid=1639660727&sr=8-111',\n",
       " 'https://www.amazon.in/JUAREZ-Arpeggio-Acoustic-Rosewood-Fretboard/dp/B08LBJ8PTM/ref=sr_1_112?keywords=guitar&qid=1639660727&sr=8-112',\n",
       " 'https://www.amazon.in/Kadence-Electric-Guitar-Rosewood-Fretboard/dp/B07BGXN7P6/ref=sr_1_113?keywords=guitar&qid=1639660727&sr=8-113',\n",
       " 'https://www.amazon.in/Yamaha-6-Strings-Acoustic-Natural-YAMAHAF310NT/dp/B07ZVNMM8Q/ref=sr_1_114?keywords=guitar&qid=1639660727&sr=8-114',\n",
       " 'https://www.amazon.in/RockJam-RJEG02-SK-SB-Electric-Guitar-Starter/dp/B01M6ZH0AW/ref=sr_1_115?keywords=guitar&qid=1639660727&sr=8-115',\n",
       " 'https://www.amazon.in/Kadence-6-strings-Acoustic-Guitar-Natural/dp/B07JKYWGJN/ref=sr_1_116?keywords=guitar&qid=1639660727&sr=8-116',\n",
       " 'https://www.amazon.in/LAVINGSTON-Givson-Special-Acoustic-plectrums/dp/B09MB2TD7C/ref=sr_1_117?keywords=guitar&qid=1639660727&sr=8-117',\n",
       " 'https://www.amazon.in/Haibing-TL-FT03-Unfinished-Mahogany-Electric/dp/B09N826ZW1/ref=sr_1_118?keywords=guitar&qid=1639660727&sr=8-118',\n",
       " 'https://www.amazon.in/Blueberry-B-D38-Acoustic-Inbuilt-Strings/dp/B07PGV8VCB/ref=sr_1_119?keywords=guitar&qid=1639660727&sr=8-119',\n",
       " 'https://www.amazon.in/Juarez-Acoustic-Guitar-Cutaway-Strings/dp/B084VRCCN7/ref=sr_1_120?keywords=guitar&qid=1639660727&sr=8-120',\n",
       " 'https://www.amazon.in/Martin-Smith-W-101-N-PK-Acoustic-Natural/dp/B00UOUK4IE/ref=sr_1_121?keywords=guitar&qid=1639660727&sr=8-121',\n",
       " 'https://www.amazon.in/Cort-CRT-G100OPBC-G100-Electric-Guitar/dp/B07G4DGJBF/ref=sr_1_122?keywords=guitar&qid=1639660727&sr=8-122',\n",
       " 'https://www.amazon.in/Alvarez-Dreadnought-6-String-Acoustic-Guitar/dp/B07T2KYQNJ/ref=sr_1_123?keywords=guitar&qid=1639660727&sr=8-123',\n",
       " 'https://www.amazon.in/Haibing-Electric-Guitar-Accessory-Natural/dp/B09N8SFYTQ/ref=sr_1_124?keywords=guitar&qid=1639660727&sr=8-124',\n",
       " 'https://www.amazon.in/Yamaha-FSX80C-Acoustic-Cutaway-Natural/dp/B09HL3GFZF/ref=sr_1_125?keywords=guitar&qid=1639660727&sr=8-125',\n",
       " 'https://www.amazon.in/CARTIFY-4-string-acoustic-learning-18-Multi/dp/B096K5S6BB/ref=sr_1_126?keywords=guitar&qid=1639660727&sr=8-126',\n",
       " 'https://www.amazon.in/JUAREZ-Arpeggio-Acoustic-Rosewood-Fretboard/dp/B08LBHN8ZR/ref=sr_1_127?keywords=guitar&qid=1639660727&sr=8-127',\n",
       " 'https://www.amazon.in/Haibing-Acoustic-Teakwood-Strings-Beginners/dp/B09N8WSVFD/ref=sr_1_128?keywords=guitar&qid=1639660727&sr=8-128',\n",
       " 'https://www.amazon.in/Kordz-Luana-Rosewood-Fretboard-Acoustic/dp/B09FFM9VSH/ref=sr_1_129?keywords=guitar&qid=1639660727&sr=8-129',\n",
       " 'https://www.amazon.in/Juarez-JRZ-ST01-6-String-Electric-Without/dp/B01FYZSOEO/ref=sr_1_130?keywords=guitar&qid=1639660727&sr=8-130',\n",
       " 'https://www.amazon.in/Blueberry-38C-Acoustic-Strings-Natural/dp/B08KLNFL2Y/ref=sr_1_131?keywords=guitar&qid=1639660727&sr=8-131',\n",
       " 'https://www.amazon.in/yamaha-acoustic-guitar-Dreadnought-Plectrums/dp/B07KB8VP6X/ref=sr_1_132?keywords=guitar&qid=1639660727&sr=8-132',\n",
       " 'https://www.amazon.in/Ibanez-IBA-MD39CNT-Acoustic-Guitar-MD39C-NT/dp/B07G4CCMYL/ref=sr_1_133?keywords=guitar&qid=1639660727&sr=8-133',\n",
       " 'https://www.amazon.in/Ketostics-Special-electric-Acoustic-Plectrums/dp/B08HWJ6T3T/ref=sr_1_134?keywords=guitar&qid=1639660727&sr=8-134',\n",
       " 'https://www.amazon.in/Yamaha-C70-Classical-Guitar-Natural/dp/B000RW2C7U/ref=sr_1_135?keywords=guitar&qid=1639660727&sr=8-135',\n",
       " 'https://www.amazon.in/Blueberry-Trussrod-Acoustic-Guitar-Sunburst/dp/B08WH5553T/ref=sr_1_136?keywords=guitar&qid=1639660727&sr=8-136',\n",
       " 'https://www.amazon.in/Epiphone-Acoustic-Electric-Guitar-Shadow-Natural/dp/B0002EK1TY/ref=sr_1_137?keywords=guitar&qid=1639660727&sr=8-137',\n",
       " 'https://www.amazon.in/Yamaha-Electric-Acoustic-FSX80C-Dreadnought-Plectrums/dp/B09HSJ6GPQ/ref=sr_1_138?keywords=guitar&qid=1639660727&sr=8-138',\n",
       " 'https://www.amazon.in/standzo-FS80C-Ultimate-Concert-body-Acoustic/dp/B08F7XQQ7W/ref=sr_1_139?keywords=guitar&qid=1639660727&sr=8-139',\n",
       " 'https://www.amazon.in/Cort-CR250-String-Electric-Guitar/dp/B09H7C9XL6/ref=sr_1_140?keywords=guitar&qid=1639660727&sr=8-140',\n",
       " 'https://www.amazon.in/Ibanez-Acoustic-Guitar-Handed-Cutaway/dp/B08FMW8KVY/ref=sr_1_141?keywords=guitar&qid=1639660727&sr=8-141',\n",
       " 'https://www.amazon.in/JUAREZ-Arp%C3%A9ggio-Semi-Acoustic-Guitar-Natural/dp/B08KHFJKZK/ref=sr_1_142?keywords=guitar&qid=1639660727&sr=8-142',\n",
       " 'https://www.amazon.in/gp/slredirect/picassoRedirect.html/ref=pa_sp_btf_aps_sr_pg3_1?ie=UTF8&adId=A04976711UB9YPJ2YCCB2&url=%2FBlueberry-B-G41S-Acoustic-Inbuilt-Strings%2Fdp%2FB07PKQGC3D%2Fref%3Dsr_1_143_sspa%3Fkeywords%3Dguitar%26qid%3D1639660727%26sr%3D8-143-spons%26psc%3D1&qualifier=1639660727&id=6644878528235584&widgetName=sp_btf',\n",
       " 'https://www.amazon.in/gp/slredirect/picassoRedirect.html/ref=pa_sp_btf_aps_sr_pg3_1?ie=UTF8&adId=A089011638EWKOS9FP8PK&url=%2FBlueberry-B-D38-Acoustic-Inbuilt-Sunburst%2Fdp%2FB08LNP8KGS%2Fref%3Dsr_1_144_sspa%3Fkeywords%3Dguitar%26qid%3D1639660727%26sr%3D8-144-spons%26psc%3D1&qualifier=1639660727&id=6644878528235584&widgetName=sp_btf',\n",
       " 'https://www.amazon.in/gp/slredirect/picassoRedirect.html/ref=pa_sp_btf_aps_sr_pg3_1?ie=UTF8&adId=A0116004R46BFIFF32CR&url=%2FBlueberry-Acoustic-Guitar-Strings-Sunburst%2Fdp%2FB08L7XJQQ1%2Fref%3Dsr_1_145_sspa%3Fkeywords%3Dguitar%26qid%3D1639660727%26sr%3D8-145-spons%26psc%3D1&qualifier=1639660727&id=6644878528235584&widgetName=sp_btf',\n",
       " 'https://www.amazon.in/gp/slredirect/picassoRedirect.html/ref=pa_sp_btf_aps_sr_pg3_1?ie=UTF8&adId=A06148813DLGE6K036P0M&url=%2FBlueberry-B-40EQ-GL-Fretboard-Amplifier-Equalizer%2Fdp%2FB09MZ5C9TL%2Fref%3Dsr_1_146_sspa%3Fkeywords%3Dguitar%26qid%3D1639660727%26sr%3D8-146-spons%26psc%3D1&qualifier=1639660727&id=6644878528235584&widgetName=sp_btf']"
      ]
     },
     "execution_count": 38,
     "metadata": {},
     "output_type": "execute_result"
    }
   ],
   "source": [
    "links"
   ]
  },
  {
   "cell_type": "code",
   "execution_count": 39,
   "id": "f91faa99",
   "metadata": {},
   "outputs": [
    {
     "name": "stdout",
     "output_type": "stream",
     "text": [
      "Requirement already satisfied: tqdm in c:\\users\\ankit\\anaconda\\lib\\site-packages (4.59.0)\n"
     ]
    }
   ],
   "source": [
    "!pip install tqdm"
   ]
  },
  {
   "cell_type": "code",
   "execution_count": 45,
   "id": "cf2dd0d6",
   "metadata": {},
   "outputs": [
    {
     "name": "stderr",
     "output_type": "stream",
     "text": [
      "  7%|▋         | 4/60 [00:49<11:31, 12.35s/it]\n"
     ]
    },
    {
     "ename": "NoSuchElementException",
     "evalue": "Message: no such element: Unable to locate element: {\"method\":\"xpath\",\"selector\":\"//span[@class=\"a-size-medium a-color-base\"]\"}\n  (Session info: chrome=96.0.4664.110)\nStacktrace:\nBacktrace:\n\tOrdinal0 [0x00E106F3+2492147]\n\tOrdinal0 [0x00DA9BD1+2071505]\n\tOrdinal0 [0x00CB2478+1057912]\n\tOrdinal0 [0x00CDC964+1231204]\n\tOrdinal0 [0x00D06B62+1403746]\n\tOrdinal0 [0x00CF57FA+1333242]\n\tOrdinal0 [0x00D04F38+1396536]\n\tOrdinal0 [0x00CF568B+1332875]\n\tOrdinal0 [0x00CD21D4+1188308]\n\tOrdinal0 [0x00CD302F+1191983]\n\tGetHandleVerifier [0x00F967A6+1545030]\n\tGetHandleVerifier [0x0104105C+2243580]\n\tGetHandleVerifier [0x00E9BC97+518199]\n\tGetHandleVerifier [0x00E9AD80+514336]\n\tOrdinal0 [0x00DAED2D+2092333]\n\tOrdinal0 [0x00DB2EE8+2109160]\n\tOrdinal0 [0x00DB3022+2109474]\n\tOrdinal0 [0x00DBCB71+2149233]\n\tBaseThreadInitThunk [0x7614FA29+25]\n\tRtlGetAppContainerNamedObjectPath [0x77197A9E+286]\n\tRtlGetAppContainerNamedObjectPath [0x77197A6E+238]\n",
     "output_type": "error",
     "traceback": [
      "\u001b[1;31m---------------------------------------------------------------------------\u001b[0m",
      "\u001b[1;31mNoSuchElementException\u001b[0m                    Traceback (most recent call last)",
      "\u001b[1;32m<ipython-input-45-662a23a9c67a>\u001b[0m in \u001b[0;36m<module>\u001b[1;34m\u001b[0m\n\u001b[0;32m      7\u001b[0m         \u001b[1;32mpass\u001b[0m\u001b[1;33m\u001b[0m\u001b[1;33m\u001b[0m\u001b[0m\n\u001b[0;32m      8\u001b[0m     \u001b[0mName_of_the_Product\u001b[0m\u001b[1;33m=\u001b[0m\u001b[0mdriver\u001b[0m\u001b[1;33m.\u001b[0m\u001b[0mfind_element_by_id\u001b[0m\u001b[1;33m(\u001b[0m\u001b[1;34m'productTitle'\u001b[0m\u001b[1;33m)\u001b[0m\u001b[1;33m.\u001b[0m\u001b[0mtext\u001b[0m\u001b[1;33m\u001b[0m\u001b[1;33m\u001b[0m\u001b[0m\n\u001b[1;32m----> 9\u001b[1;33m     \u001b[0mRating\u001b[0m\u001b[1;33m=\u001b[0m\u001b[0mdriver\u001b[0m\u001b[1;33m.\u001b[0m\u001b[0mfind_element_by_xpath\u001b[0m\u001b[1;33m(\u001b[0m\u001b[1;34m'//span[@class=\"a-size-medium a-color-base\"]'\u001b[0m\u001b[1;33m)\u001b[0m\u001b[1;33m.\u001b[0m\u001b[0mtext\u001b[0m\u001b[1;33m\u001b[0m\u001b[1;33m\u001b[0m\u001b[0m\n\u001b[0m\u001b[0;32m     10\u001b[0m     \u001b[0mNo_of_Ratings\u001b[0m\u001b[1;33m=\u001b[0m\u001b[0mdriver\u001b[0m\u001b[1;33m.\u001b[0m\u001b[0mfind_element_by_xpath\u001b[0m\u001b[1;33m(\u001b[0m\u001b[1;34m'//span[@class=\"a-size-medium a-color-base\"]'\u001b[0m\u001b[1;33m)\u001b[0m\u001b[1;33m.\u001b[0m\u001b[0mtext\u001b[0m\u001b[1;33m\u001b[0m\u001b[1;33m\u001b[0m\u001b[0m\n\u001b[0;32m     11\u001b[0m     \u001b[0mPrice\u001b[0m\u001b[1;33m=\u001b[0m\u001b[0mdriver\u001b[0m\u001b[1;33m.\u001b[0m\u001b[0mfind_element_by_xpath\u001b[0m\u001b[1;33m(\u001b[0m\u001b[1;34m'//div[@class=\"a-section\"]/span'\u001b[0m\u001b[1;33m)\u001b[0m\u001b[1;33m.\u001b[0m\u001b[0mtext\u001b[0m\u001b[1;33m\u001b[0m\u001b[1;33m\u001b[0m\u001b[0m\n",
      "\u001b[1;32m~\\anaconda\\lib\\site-packages\\selenium\\webdriver\\remote\\webdriver.py\u001b[0m in \u001b[0;36mfind_element_by_xpath\u001b[1;34m(self, xpath)\u001b[0m\n\u001b[0;32m    512\u001b[0m             \u001b[0mstacklevel\u001b[0m\u001b[1;33m=\u001b[0m\u001b[1;36m2\u001b[0m\u001b[1;33m,\u001b[0m\u001b[1;33m\u001b[0m\u001b[1;33m\u001b[0m\u001b[0m\n\u001b[0;32m    513\u001b[0m         )\n\u001b[1;32m--> 514\u001b[1;33m         \u001b[1;32mreturn\u001b[0m \u001b[0mself\u001b[0m\u001b[1;33m.\u001b[0m\u001b[0mfind_element\u001b[0m\u001b[1;33m(\u001b[0m\u001b[0mby\u001b[0m\u001b[1;33m=\u001b[0m\u001b[0mBy\u001b[0m\u001b[1;33m.\u001b[0m\u001b[0mXPATH\u001b[0m\u001b[1;33m,\u001b[0m \u001b[0mvalue\u001b[0m\u001b[1;33m=\u001b[0m\u001b[0mxpath\u001b[0m\u001b[1;33m)\u001b[0m\u001b[1;33m\u001b[0m\u001b[1;33m\u001b[0m\u001b[0m\n\u001b[0m\u001b[0;32m    515\u001b[0m \u001b[1;33m\u001b[0m\u001b[0m\n\u001b[0;32m    516\u001b[0m     \u001b[1;32mdef\u001b[0m \u001b[0mfind_elements_by_xpath\u001b[0m\u001b[1;33m(\u001b[0m\u001b[0mself\u001b[0m\u001b[1;33m,\u001b[0m \u001b[0mxpath\u001b[0m\u001b[1;33m)\u001b[0m \u001b[1;33m->\u001b[0m \u001b[0mWebElement\u001b[0m\u001b[1;33m:\u001b[0m\u001b[1;33m\u001b[0m\u001b[1;33m\u001b[0m\u001b[0m\n",
      "\u001b[1;32m~\\anaconda\\lib\\site-packages\\selenium\\webdriver\\remote\\webdriver.py\u001b[0m in \u001b[0;36mfind_element\u001b[1;34m(self, by, value)\u001b[0m\n\u001b[0;32m   1236\u001b[0m             \u001b[0mvalue\u001b[0m \u001b[1;33m=\u001b[0m \u001b[1;34m'[name=\"%s\"]'\u001b[0m \u001b[1;33m%\u001b[0m \u001b[0mvalue\u001b[0m\u001b[1;33m\u001b[0m\u001b[1;33m\u001b[0m\u001b[0m\n\u001b[0;32m   1237\u001b[0m \u001b[1;33m\u001b[0m\u001b[0m\n\u001b[1;32m-> 1238\u001b[1;33m         return self.execute(Command.FIND_ELEMENT, {\n\u001b[0m\u001b[0;32m   1239\u001b[0m             \u001b[1;34m'using'\u001b[0m\u001b[1;33m:\u001b[0m \u001b[0mby\u001b[0m\u001b[1;33m,\u001b[0m\u001b[1;33m\u001b[0m\u001b[1;33m\u001b[0m\u001b[0m\n\u001b[0;32m   1240\u001b[0m             'value': value})['value']\n",
      "\u001b[1;32m~\\anaconda\\lib\\site-packages\\selenium\\webdriver\\remote\\webdriver.py\u001b[0m in \u001b[0;36mexecute\u001b[1;34m(self, driver_command, params)\u001b[0m\n\u001b[0;32m    416\u001b[0m         \u001b[0mresponse\u001b[0m \u001b[1;33m=\u001b[0m \u001b[0mself\u001b[0m\u001b[1;33m.\u001b[0m\u001b[0mcommand_executor\u001b[0m\u001b[1;33m.\u001b[0m\u001b[0mexecute\u001b[0m\u001b[1;33m(\u001b[0m\u001b[0mdriver_command\u001b[0m\u001b[1;33m,\u001b[0m \u001b[0mparams\u001b[0m\u001b[1;33m)\u001b[0m\u001b[1;33m\u001b[0m\u001b[1;33m\u001b[0m\u001b[0m\n\u001b[0;32m    417\u001b[0m         \u001b[1;32mif\u001b[0m \u001b[0mresponse\u001b[0m\u001b[1;33m:\u001b[0m\u001b[1;33m\u001b[0m\u001b[1;33m\u001b[0m\u001b[0m\n\u001b[1;32m--> 418\u001b[1;33m             \u001b[0mself\u001b[0m\u001b[1;33m.\u001b[0m\u001b[0merror_handler\u001b[0m\u001b[1;33m.\u001b[0m\u001b[0mcheck_response\u001b[0m\u001b[1;33m(\u001b[0m\u001b[0mresponse\u001b[0m\u001b[1;33m)\u001b[0m\u001b[1;33m\u001b[0m\u001b[1;33m\u001b[0m\u001b[0m\n\u001b[0m\u001b[0;32m    419\u001b[0m             response['value'] = self._unwrap_value(\n\u001b[0;32m    420\u001b[0m                 response.get('value', None))\n",
      "\u001b[1;32m~\\anaconda\\lib\\site-packages\\selenium\\webdriver\\remote\\errorhandler.py\u001b[0m in \u001b[0;36mcheck_response\u001b[1;34m(self, response)\u001b[0m\n\u001b[0;32m    241\u001b[0m                 \u001b[0malert_text\u001b[0m \u001b[1;33m=\u001b[0m \u001b[0mvalue\u001b[0m\u001b[1;33m[\u001b[0m\u001b[1;34m'alert'\u001b[0m\u001b[1;33m]\u001b[0m\u001b[1;33m.\u001b[0m\u001b[0mget\u001b[0m\u001b[1;33m(\u001b[0m\u001b[1;34m'text'\u001b[0m\u001b[1;33m)\u001b[0m\u001b[1;33m\u001b[0m\u001b[1;33m\u001b[0m\u001b[0m\n\u001b[0;32m    242\u001b[0m             \u001b[1;32mraise\u001b[0m \u001b[0mexception_class\u001b[0m\u001b[1;33m(\u001b[0m\u001b[0mmessage\u001b[0m\u001b[1;33m,\u001b[0m \u001b[0mscreen\u001b[0m\u001b[1;33m,\u001b[0m \u001b[0mstacktrace\u001b[0m\u001b[1;33m,\u001b[0m \u001b[0malert_text\u001b[0m\u001b[1;33m)\u001b[0m  \u001b[1;31m# type: ignore[call-arg]  # mypy is not smart enough here\u001b[0m\u001b[1;33m\u001b[0m\u001b[1;33m\u001b[0m\u001b[0m\n\u001b[1;32m--> 243\u001b[1;33m         \u001b[1;32mraise\u001b[0m \u001b[0mexception_class\u001b[0m\u001b[1;33m(\u001b[0m\u001b[0mmessage\u001b[0m\u001b[1;33m,\u001b[0m \u001b[0mscreen\u001b[0m\u001b[1;33m,\u001b[0m \u001b[0mstacktrace\u001b[0m\u001b[1;33m)\u001b[0m\u001b[1;33m\u001b[0m\u001b[1;33m\u001b[0m\u001b[0m\n\u001b[0m\u001b[0;32m    244\u001b[0m \u001b[1;33m\u001b[0m\u001b[0m\n\u001b[0;32m    245\u001b[0m     \u001b[1;32mdef\u001b[0m \u001b[0m_value_or_default\u001b[0m\u001b[1;33m(\u001b[0m\u001b[0mself\u001b[0m\u001b[1;33m,\u001b[0m \u001b[0mobj\u001b[0m\u001b[1;33m:\u001b[0m \u001b[0mMapping\u001b[0m\u001b[1;33m[\u001b[0m\u001b[0m_KT\u001b[0m\u001b[1;33m,\u001b[0m \u001b[0m_VT\u001b[0m\u001b[1;33m]\u001b[0m\u001b[1;33m,\u001b[0m \u001b[0mkey\u001b[0m\u001b[1;33m:\u001b[0m \u001b[0m_KT\u001b[0m\u001b[1;33m,\u001b[0m \u001b[0mdefault\u001b[0m\u001b[1;33m:\u001b[0m \u001b[0m_VT\u001b[0m\u001b[1;33m)\u001b[0m \u001b[1;33m->\u001b[0m \u001b[0m_VT\u001b[0m\u001b[1;33m:\u001b[0m\u001b[1;33m\u001b[0m\u001b[1;33m\u001b[0m\u001b[0m\n",
      "\u001b[1;31mNoSuchElementException\u001b[0m: Message: no such element: Unable to locate element: {\"method\":\"xpath\",\"selector\":\"//span[@class=\"a-size-medium a-color-base\"]\"}\n  (Session info: chrome=96.0.4664.110)\nStacktrace:\nBacktrace:\n\tOrdinal0 [0x00E106F3+2492147]\n\tOrdinal0 [0x00DA9BD1+2071505]\n\tOrdinal0 [0x00CB2478+1057912]\n\tOrdinal0 [0x00CDC964+1231204]\n\tOrdinal0 [0x00D06B62+1403746]\n\tOrdinal0 [0x00CF57FA+1333242]\n\tOrdinal0 [0x00D04F38+1396536]\n\tOrdinal0 [0x00CF568B+1332875]\n\tOrdinal0 [0x00CD21D4+1188308]\n\tOrdinal0 [0x00CD302F+1191983]\n\tGetHandleVerifier [0x00F967A6+1545030]\n\tGetHandleVerifier [0x0104105C+2243580]\n\tGetHandleVerifier [0x00E9BC97+518199]\n\tGetHandleVerifier [0x00E9AD80+514336]\n\tOrdinal0 [0x00DAED2D+2092333]\n\tOrdinal0 [0x00DB2EE8+2109160]\n\tOrdinal0 [0x00DB3022+2109474]\n\tOrdinal0 [0x00DBCB71+2149233]\n\tBaseThreadInitThunk [0x7614FA29+25]\n\tRtlGetAppContainerNamedObjectPath [0x77197A9E+286]\n\tRtlGetAppContainerNamedObjectPath [0x77197A6E+238]\n"
     ]
    }
   ],
   "source": [
    "from tqdm import tqdm\n",
    "productdetails=[]\n",
    "for i in tqdm(links):\n",
    "    driver.get(i)\n",
    "    Brand_Name=driver.find_element_by_xpath('//span[@class=\"a-size-base\"]').text\n",
    "    if not Brand_Name:\n",
    "        pass\n",
    "    Name_of_the_Product=driver.find_element_by_id('productTitle').text\n",
    "    Rating=driver.find_element_by_xpath('//span[@class=\"a-size-medium a-color-base\"]').text\n",
    "    No_of_Ratings=driver.find_element_by_xpath('//span[@class=\"a-size-medium a-color-base\"]').text\n",
    "    Price=driver.find_element_by_xpath('//div[@class=\"a-section\"]/span').text\n",
    "    Expected_Delivery=driver.find_element_by_xpath('//div[@class=\"a-section a-spacing-mini\"]').text\n",
    "    Availability=driver.find_element_by_xpath('//*[@id=\"availability\"]/span').text\n",
    "    Other_Details=driver.find_element_by_xpath('//ul[@class=\"a-unordered-list a-vertical a-spacing-mini\"]').text\n",
    "    temp={'Brand Name':Brand_Name,\n",
    "         'Name of the Product':Name_of_the_Product,\n",
    "         'Rating':Rating,\n",
    "         'No of Ratings':No_of_Ratings,\n",
    "         'Price':Price,\n",
    "         'Expected Delivery':Expected_Delivery,\n",
    "         'Availability':Availability,\n",
    "         'Other Details':Other_Details,\n",
    "         'Product URL':i}\n",
    "    productdetails.append(temp)"
   ]
  },
  {
   "cell_type": "code",
   "execution_count": null,
   "id": "7418484d",
   "metadata": {},
   "outputs": [],
   "source": [
    "pd.DataFrame(productdetails)"
   ]
  },
  {
   "cell_type": "code",
   "execution_count": 43,
   "id": "a24eef1e",
   "metadata": {},
   "outputs": [
    {
     "ename": "IndentationError",
     "evalue": "unexpected indent (<ipython-input-43-ac2ad692560c>, line 2)",
     "output_type": "error",
     "traceback": [
      "\u001b[1;36m  File \u001b[1;32m\"<ipython-input-43-ac2ad692560c>\"\u001b[1;36m, line \u001b[1;32m2\u001b[0m\n\u001b[1;33m    if not Rating:\u001b[0m\n\u001b[1;37m    ^\u001b[0m\n\u001b[1;31mIndentationError\u001b[0m\u001b[1;31m:\u001b[0m unexpected indent\n"
     ]
    }
   ],
   "source": []
  },
  {
   "cell_type": "code",
   "execution_count": null,
   "id": "5e934d51",
   "metadata": {},
   "outputs": [],
   "source": []
  },
  {
   "cell_type": "code",
   "execution_count": null,
   "id": "d5eb5043",
   "metadata": {},
   "outputs": [],
   "source": []
  }
 ],
 "metadata": {
  "kernelspec": {
   "display_name": "Python 3",
   "language": "python",
   "name": "python3"
  },
  "language_info": {
   "codemirror_mode": {
    "name": "ipython",
    "version": 3
   },
   "file_extension": ".py",
   "mimetype": "text/x-python",
   "name": "python",
   "nbconvert_exporter": "python",
   "pygments_lexer": "ipython3",
   "version": "3.8.8"
  }
 },
 "nbformat": 4,
 "nbformat_minor": 5
}
