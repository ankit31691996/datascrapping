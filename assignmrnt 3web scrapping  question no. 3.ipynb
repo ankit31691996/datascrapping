{
 "cells": [
  {
   "cell_type": "code",
   "execution_count": 41,
   "id": "ab66be86",
   "metadata": {},
   "outputs": [
    {
     "name": "stdout",
     "output_type": "stream",
     "text": [
      "Requirement already satisfied: google_images_download in c:\\users\\ankit\\anaconda\\lib\\site-packages (2.8.0)\n",
      "Requirement already satisfied: selenium in c:\\users\\ankit\\anaconda\\lib\\site-packages (from google_images_download) (4.0.0)\n",
      "Requirement already satisfied: trio-websocket~=0.9 in c:\\users\\ankit\\anaconda\\lib\\site-packages (from selenium->google_images_download) (0.9.2)\n",
      "Requirement already satisfied: urllib3[secure]~=1.26 in c:\\users\\ankit\\anaconda\\lib\\site-packages (from selenium->google_images_download) (1.26.4)\n",
      "Requirement already satisfied: trio~=0.17 in c:\\users\\ankit\\anaconda\\lib\\site-packages (from selenium->google_images_download) (0.19.0)\n",
      "Requirement already satisfied: outcome in c:\\users\\ankit\\anaconda\\lib\\site-packages (from trio~=0.17->selenium->google_images_download) (1.1.0)\n",
      "Requirement already satisfied: async-generator>=1.9 in c:\\users\\ankit\\anaconda\\lib\\site-packages (from trio~=0.17->selenium->google_images_download) (1.10)\n",
      "Requirement already satisfied: sortedcontainers in c:\\users\\ankit\\anaconda\\lib\\site-packages (from trio~=0.17->selenium->google_images_download) (2.3.0)\n",
      "Requirement already satisfied: idna in c:\\users\\ankit\\anaconda\\lib\\site-packages (from trio~=0.17->selenium->google_images_download) (2.10)\n",
      "Requirement already satisfied: sniffio in c:\\users\\ankit\\anaconda\\lib\\site-packages (from trio~=0.17->selenium->google_images_download) (1.2.0)\n",
      "Requirement already satisfied: cffi>=1.14 in c:\\users\\ankit\\anaconda\\lib\\site-packages (from trio~=0.17->selenium->google_images_download) (1.14.5)\n",
      "Requirement already satisfied: attrs>=19.2.0 in c:\\users\\ankit\\anaconda\\lib\\site-packages (from trio~=0.17->selenium->google_images_download) (20.3.0)\n",
      "Requirement already satisfied: pycparser in c:\\users\\ankit\\anaconda\\lib\\site-packages (from cffi>=1.14->trio~=0.17->selenium->google_images_download) (2.20)\n",
      "Requirement already satisfied: wsproto>=0.14 in c:\\users\\ankit\\anaconda\\lib\\site-packages (from trio-websocket~=0.9->selenium->google_images_download) (1.0.0)\n",
      "Requirement already satisfied: certifi in c:\\users\\ankit\\anaconda\\lib\\site-packages (from urllib3[secure]~=1.26->selenium->google_images_download) (2020.12.5)\n",
      "Requirement already satisfied: pyOpenSSL>=0.14 in c:\\users\\ankit\\anaconda\\lib\\site-packages (from urllib3[secure]~=1.26->selenium->google_images_download) (20.0.1)\n",
      "Requirement already satisfied: cryptography>=1.3.4 in c:\\users\\ankit\\anaconda\\lib\\site-packages (from urllib3[secure]~=1.26->selenium->google_images_download) (3.4.7)\n",
      "Requirement already satisfied: six>=1.5.2 in c:\\users\\ankit\\anaconda\\lib\\site-packages (from pyOpenSSL>=0.14->urllib3[secure]~=1.26->selenium->google_images_download) (1.15.0)\n",
      "Requirement already satisfied: h11<1,>=0.9.0 in c:\\users\\ankit\\anaconda\\lib\\site-packages (from wsproto>=0.14->trio-websocket~=0.9->selenium->google_images_download) (0.12.0)\n"
     ]
    }
   ],
   "source": [
    "!pip install google_images_download"
   ]
  },
  {
   "cell_type": "code",
   "execution_count": 42,
   "id": "25fbf91b",
   "metadata": {},
   "outputs": [],
   "source": [
    "from google_images_download import google_images_download"
   ]
  },
  {
   "cell_type": "code",
   "execution_count": 43,
   "id": "dc228a05",
   "metadata": {},
   "outputs": [],
   "source": [
    "response = google_images_download.googleimagesdownload()"
   ]
  },
  {
   "cell_type": "code",
   "execution_count": null,
   "id": "17892dfb",
   "metadata": {},
   "outputs": [],
   "source": []
  },
  {
   "cell_type": "code",
   "execution_count": 44,
   "id": "0c442143",
   "metadata": {},
   "outputs": [],
   "source": [
    "search_queries =[\"fruits\",\"cars\",\"machine learning\"]"
   ]
  },
  {
   "cell_type": "code",
   "execution_count": 57,
   "id": "55865ff6",
   "metadata": {},
   "outputs": [
    {
     "name": "stdout",
     "output_type": "stream",
     "text": [
      "\n",
      "Item no.: 1 --> Item name = fruits\n",
      "Evaluating...\n",
      "Starting Download...\n",
      "\n",
      "\n",
      "Unfortunately all 100 could not be downloaded because some images were not downloadable. 0 is all we got for this search filter!\n",
      "\n",
      "Errors: 0\n",
      "\n",
      "\n",
      "\n",
      "Item no.: 1 --> Item name = cars\n",
      "Evaluating...\n",
      "Starting Download...\n",
      "\n",
      "\n",
      "Unfortunately all 100 could not be downloaded because some images were not downloadable. 0 is all we got for this search filter!\n",
      "\n",
      "Errors: 0\n",
      "\n",
      "\n",
      "\n",
      "Item no.: 1 --> Item name = machine learning\n",
      "Evaluating...\n",
      "Starting Download...\n",
      "\n",
      "\n",
      "Unfortunately all 100 could not be downloaded because some images were not downloadable. 0 is all we got for this search filter!\n",
      "\n",
      "Errors: 0\n",
      "\n",
      "\n"
     ]
    }
   ],
   "source": [
    "def downloadimages(query):\n",
    "    arguments = {\"keywords\": query,\n",
    "                 \"format\": \"jpg\",\n",
    "                 \"limit\":100,\n",
    "                 \"print_url\":True,\n",
    "                 \"size\":\"large\",\n",
    "                 \"aspect_ratio\":\"panoramic\"}\n",
    "    try:\n",
    "        response.download(arguments)\n",
    "    except FileNotFoundError:\n",
    "        {\"keywords\": query,\n",
    "                 \"format\": \"jpg\",\n",
    "                 \"limit\":100,\n",
    "                 \"print_url\":True,\n",
    "                 \"size\":\"large\"}\n",
    "\n",
    "for query in search_queries:\n",
    "    downloadimages(query) \n",
    "    print() "
   ]
  },
  {
   "cell_type": "code",
   "execution_count": null,
   "id": "dd3f983a",
   "metadata": {},
   "outputs": [],
   "source": []
  }
 ],
 "metadata": {
  "kernelspec": {
   "display_name": "Python 3",
   "language": "python",
   "name": "python3"
  },
  "language_info": {
   "codemirror_mode": {
    "name": "ipython",
    "version": 3
   },
   "file_extension": ".py",
   "mimetype": "text/x-python",
   "name": "python",
   "nbconvert_exporter": "python",
   "pygments_lexer": "ipython3",
   "version": "3.8.8"
  }
 },
 "nbformat": 4,
 "nbformat_minor": 5
}
