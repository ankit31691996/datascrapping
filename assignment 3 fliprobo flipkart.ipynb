{
 "cells": [
  {
   "cell_type": "code",
   "execution_count": 14,
   "id": "61731a30",
   "metadata": {},
   "outputs": [],
   "source": [
    "import selenium \n",
    "import pandas as pd\n",
    "from selenium import webdriver\n",
    "import warnings\n",
    "warnings.filterwarnings('ignore')"
   ]
  },
  {
   "cell_type": "code",
   "execution_count": 15,
   "id": "f265d36c",
   "metadata": {},
   "outputs": [],
   "source": [
    "driver= webdriver.Chrome('C:/Users/ankit/Downloads/chromedriver_win32/chromedriver.exe')"
   ]
  },
  {
   "cell_type": "code",
   "execution_count": 16,
   "id": "633d251f",
   "metadata": {},
   "outputs": [],
   "source": [
    "driver.get('https://www.flipkart.com/')"
   ]
  },
  {
   "cell_type": "code",
   "execution_count": 17,
   "id": "919ce623",
   "metadata": {},
   "outputs": [],
   "source": [
    "cut=driver.find_element_by_xpath('//button[@class=\"_2KpZ6l _2doB4z\"]')\n",
    "cut.click()"
   ]
  },
  {
   "cell_type": "code",
   "execution_count": 18,
   "id": "86615eb3",
   "metadata": {},
   "outputs": [],
   "source": [
    "keyword=driver.find_element_by_xpath('//div[@class=\"_3OO5Xc\"]/input')\n",
    "keyword.send_keys('pixel 4A')"
   ]
  },
  {
   "cell_type": "code",
   "execution_count": 19,
   "id": "f7244e0b",
   "metadata": {},
   "outputs": [],
   "source": [
    "search=driver.find_element_by_xpath('//button[@class=\"L0Z3Pu\"]')\n",
    "search.click()"
   ]
  },
  {
   "cell_type": "code",
   "execution_count": 24,
   "id": "cde1ebd9",
   "metadata": {},
   "outputs": [
    {
     "data": {
      "text/plain": [
       "[<selenium.webdriver.remote.webelement.WebElement (session=\"2d6ba1b4515c59e5e6283c48de6f6aab\", element=\"4e8d7127-a0a8-4ef5-acf7-7736ef4ddb7c\")>,\n",
       " <selenium.webdriver.remote.webelement.WebElement (session=\"2d6ba1b4515c59e5e6283c48de6f6aab\", element=\"8c2053ae-d967-4331-93d7-ebcc23fb8e18\")>,\n",
       " <selenium.webdriver.remote.webelement.WebElement (session=\"2d6ba1b4515c59e5e6283c48de6f6aab\", element=\"2e660ed8-951c-4c8f-a6d6-61240953dd94\")>,\n",
       " <selenium.webdriver.remote.webelement.WebElement (session=\"2d6ba1b4515c59e5e6283c48de6f6aab\", element=\"1a7c3891-948e-4eb4-9cba-91cb8e924c22\")>,\n",
       " <selenium.webdriver.remote.webelement.WebElement (session=\"2d6ba1b4515c59e5e6283c48de6f6aab\", element=\"836a1c85-dccd-49cb-b139-53494031fdba\")>,\n",
       " <selenium.webdriver.remote.webelement.WebElement (session=\"2d6ba1b4515c59e5e6283c48de6f6aab\", element=\"6c5dfe27-096b-44df-9c5d-17b8046999fc\")>,\n",
       " <selenium.webdriver.remote.webelement.WebElement (session=\"2d6ba1b4515c59e5e6283c48de6f6aab\", element=\"8c955f0b-6f97-411b-bdc1-c3f4bc9563ea\")>,\n",
       " <selenium.webdriver.remote.webelement.WebElement (session=\"2d6ba1b4515c59e5e6283c48de6f6aab\", element=\"284479e3-b0aa-49f5-b050-95013fdd47c1\")>,\n",
       " <selenium.webdriver.remote.webelement.WebElement (session=\"2d6ba1b4515c59e5e6283c48de6f6aab\", element=\"430e4e8d-7ddb-41be-b08d-00e7556eaa68\")>,\n",
       " <selenium.webdriver.remote.webelement.WebElement (session=\"2d6ba1b4515c59e5e6283c48de6f6aab\", element=\"bd04007c-3ea3-46a2-9e09-010a3af13df5\")>,\n",
       " <selenium.webdriver.remote.webelement.WebElement (session=\"2d6ba1b4515c59e5e6283c48de6f6aab\", element=\"0b5f0556-bb55-4f22-9f45-945e53426b70\")>,\n",
       " <selenium.webdriver.remote.webelement.WebElement (session=\"2d6ba1b4515c59e5e6283c48de6f6aab\", element=\"34395929-f664-42b1-8a04-925ccf4c196f\")>,\n",
       " <selenium.webdriver.remote.webelement.WebElement (session=\"2d6ba1b4515c59e5e6283c48de6f6aab\", element=\"0e4a906a-a632-488c-8d94-0225abda9e0f\")>,\n",
       " <selenium.webdriver.remote.webelement.WebElement (session=\"2d6ba1b4515c59e5e6283c48de6f6aab\", element=\"8ae8652c-4f22-450d-89bc-ef9761a25700\")>,\n",
       " <selenium.webdriver.remote.webelement.WebElement (session=\"2d6ba1b4515c59e5e6283c48de6f6aab\", element=\"e740fe38-5074-44d7-981d-b10d55b9a19c\")>,\n",
       " <selenium.webdriver.remote.webelement.WebElement (session=\"2d6ba1b4515c59e5e6283c48de6f6aab\", element=\"ea6da757-6c40-4cc4-989a-93a428ecfa73\")>,\n",
       " <selenium.webdriver.remote.webelement.WebElement (session=\"2d6ba1b4515c59e5e6283c48de6f6aab\", element=\"2413e914-a2fb-4a0a-ad78-803307dab3d4\")>,\n",
       " <selenium.webdriver.remote.webelement.WebElement (session=\"2d6ba1b4515c59e5e6283c48de6f6aab\", element=\"21453ef7-535d-4077-9ef8-b741c94eab81\")>,\n",
       " <selenium.webdriver.remote.webelement.WebElement (session=\"2d6ba1b4515c59e5e6283c48de6f6aab\", element=\"9654a286-8213-4d1b-9bbc-fedcf38796be\")>,\n",
       " <selenium.webdriver.remote.webelement.WebElement (session=\"2d6ba1b4515c59e5e6283c48de6f6aab\", element=\"e8eb729d-fec6-4e94-8db4-af9a7b987f80\")>,\n",
       " <selenium.webdriver.remote.webelement.WebElement (session=\"2d6ba1b4515c59e5e6283c48de6f6aab\", element=\"f4718acb-53e3-4af9-ab66-6650898dd2ce\")>,\n",
       " <selenium.webdriver.remote.webelement.WebElement (session=\"2d6ba1b4515c59e5e6283c48de6f6aab\", element=\"914241bb-a083-406d-99aa-eb7ee0f12e1a\")>,\n",
       " <selenium.webdriver.remote.webelement.WebElement (session=\"2d6ba1b4515c59e5e6283c48de6f6aab\", element=\"77fdc28b-9a52-49f5-b1be-cdb83e9ee843\")>,\n",
       " <selenium.webdriver.remote.webelement.WebElement (session=\"2d6ba1b4515c59e5e6283c48de6f6aab\", element=\"06511414-7ec8-4124-a2c7-48e6e5b2ec31\")>]"
      ]
     },
     "execution_count": 24,
     "metadata": {},
     "output_type": "execute_result"
    }
   ],
   "source": [
    "products=driver.find_elements_by_xpath('//div[@class=\"_2kHMtA\"]')\n",
    "products"
   ]
  },
  {
   "cell_type": "code",
   "execution_count": 26,
   "id": "efad267c",
   "metadata": {},
   "outputs": [
    {
     "data": {
      "text/plain": [
       "['https://www.flipkart.com/google-pixel-4a-just-black-128-gb/p/itm023b9677aa45d?pid=MOBFUSBNAZGY7HQU&lid=LSTMOBFUSBNAZGY7HQUWHTF0C&marketplace=FLIPKART&q=pixel+4A&store=tyy%2F4io&srno=s_1_1&otracker=search&otracker1=search&fm=SEARCH&iid=645c0f1a-8b7c-494f-9739-200c43e54bc2.MOBFUSBNAZGY7HQU.SEARCH&ppt=hp&ppn=homepage&ssid=3dtu3tchfk0000001639661621150&qH=9b26a23b2cff510d',\n",
       " 'https://www.flipkart.com/redmi-10-prime-phantom-black-128-gb/p/itm9377b4c936baa?pid=MOBG6RGPPXQFYJ4R&lid=LSTMOBG6RGPPXQFYJ4RE0VFFT&marketplace=FLIPKART&q=pixel+4A&store=tyy%2F4io&srno=s_1_2&otracker=search&otracker1=search&fm=SEARCH&iid=645c0f1a-8b7c-494f-9739-200c43e54bc2.MOBG6RGPPXQFYJ4R.SEARCH&ppt=hp&ppn=homepage&ssid=3dtu3tchfk0000001639661621150&qH=9b26a23b2cff510d',\n",
       " 'https://www.flipkart.com/redmi-9-power-fiery-red-64-gb/p/itmcd78b9bc04aa9?pid=MOBFYZF8XVSHPK5M&lid=LSTMOBFYZF8XVSHPK5MESH0CW&marketplace=FLIPKART&q=pixel+4A&store=tyy%2F4io&srno=s_1_3&otracker=search&otracker1=search&fm=SEARCH&iid=645c0f1a-8b7c-494f-9739-200c43e54bc2.MOBFYZF8XVSHPK5M.SEARCH&ppt=hp&ppn=homepage&ssid=3dtu3tchfk0000001639661621150&qH=9b26a23b2cff510d',\n",
       " 'https://www.flipkart.com/redmi-9-power-mighty-black-64-gb/p/itm481ab234a6553?pid=MOBFYZ94UWPWQRNF&lid=LSTMOBFYZ94UWPWQRNFEQLUFV&marketplace=FLIPKART&q=pixel+4A&store=tyy%2F4io&srno=s_1_4&otracker=search&otracker1=search&fm=SEARCH&iid=645c0f1a-8b7c-494f-9739-200c43e54bc2.MOBFYZ94UWPWQRNF.SEARCH&ppt=hp&ppn=homepage&ssid=3dtu3tchfk0000001639661621150&qH=9b26a23b2cff510d',\n",
       " 'https://www.flipkart.com/samsung-galaxy-m52-5g-icy-blue-128-gb/p/itmc11e28acf5474?pid=MOBG7H8ZMGBH4Q8F&lid=LSTMOBG7H8ZMGBH4Q8FJ58UPX&marketplace=FLIPKART&q=pixel+4A&store=tyy%2F4io&srno=s_1_5&otracker=search&otracker1=search&fm=SEARCH&iid=645c0f1a-8b7c-494f-9739-200c43e54bc2.MOBG7H8ZMGBH4Q8F.SEARCH&ppt=hp&ppn=homepage&ssid=3dtu3tchfk0000001639661621150&qH=9b26a23b2cff510d',\n",
       " 'https://www.flipkart.com/redmi-9-carbon-black-64-gb/p/itm4fb151383983b?pid=MOBFVHMPGATFZXWR&lid=LSTMOBFVHMPGATFZXWR81C25H&marketplace=FLIPKART&q=pixel+4A&store=tyy%2F4io&srno=s_1_6&otracker=search&otracker1=search&fm=SEARCH&iid=645c0f1a-8b7c-494f-9739-200c43e54bc2.MOBFVHMPGATFZXWR.SEARCH&ppt=hp&ppn=homepage&ssid=3dtu3tchfk0000001639661621150&qH=9b26a23b2cff510d',\n",
       " 'https://www.flipkart.com/kall-k-19-car/p/itmd71fd53ac92b8?pid=MOBFUTEWP8HUZFQZ&lid=LSTMOBFUTEWP8HUZFQZR7F0LN&marketplace=FLIPKART&q=pixel+4A&store=tyy%2F4io&srno=s_1_7&otracker=search&otracker1=search&fm=SEARCH&iid=645c0f1a-8b7c-494f-9739-200c43e54bc2.MOBFUTEWP8HUZFQZ.SEARCH&ppt=hp&ppn=homepage&ssid=3dtu3tchfk0000001639661621150&qH=9b26a23b2cff510d',\n",
       " 'https://www.flipkart.com/tecno-camon-17-frost-silver-128-gb/p/itm60b07aa2c3b00?pid=MOBG6ASFPK8XMVDW&lid=LSTMOBG6ASFPK8XMVDWU63V34&marketplace=FLIPKART&q=pixel+4A&store=tyy%2F4io&srno=s_1_8&otracker=search&otracker1=search&fm=SEARCH&iid=645c0f1a-8b7c-494f-9739-200c43e54bc2.MOBG6ASFPK8XMVDW.SEARCH&ppt=hp&ppn=homepage&ssid=3dtu3tchfk0000001639661621150&qH=9b26a23b2cff510d',\n",
       " 'https://www.flipkart.com/redmi-9-sky-blue-64-gb/p/itm4fb151383983b?pid=MOBFV5FPUS8UHG9H&lid=LSTMOBFV5FPUS8UHG9HTE6NAV&marketplace=FLIPKART&q=pixel+4A&store=tyy%2F4io&srno=s_1_9&otracker=search&otracker1=search&fm=SEARCH&iid=645c0f1a-8b7c-494f-9739-200c43e54bc2.MOBFV5FPUS8UHG9H.SEARCH&ppt=hp&ppn=homepage&ssid=3dtu3tchfk0000001639661621150&qH=9b26a23b2cff510d',\n",
       " 'https://www.flipkart.com/redmi-9-sporty-orange-64-gb/p/itm4fb151383983b?pid=MOBFV5FPCJC9ZKRB&lid=LSTMOBFV5FPCJC9ZKRBPHFKQZ&marketplace=FLIPKART&q=pixel+4A&store=tyy%2F4io&srno=s_1_10&otracker=search&otracker1=search&fm=SEARCH&iid=645c0f1a-8b7c-494f-9739-200c43e54bc2.MOBFV5FPCJC9ZKRB.SEARCH&ppt=hp&ppn=homepage&ssid=3dtu3tchfk0000001639661621150&qH=9b26a23b2cff510d',\n",
       " 'https://www.flipkart.com/redmi-10-prime-astral-white-64-gb/p/itm9377b4c936baa?pid=MOBG6PFKNMNNKZVS&lid=LSTMOBG6PFKNMNNKZVSJPL971&marketplace=FLIPKART&q=pixel+4A&store=tyy%2F4io&srno=s_1_11&otracker=search&otracker1=search&fm=SEARCH&iid=645c0f1a-8b7c-494f-9739-200c43e54bc2.MOBG6PFKNMNNKZVS.SEARCH&ppt=hp&ppn=homepage&ssid=3dtu3tchfk0000001639661621150&qH=9b26a23b2cff510d',\n",
       " 'https://www.flipkart.com/samsung-galaxy-m31-space-black-128-gb/p/itmed6043337ac0e?pid=MOBFUYQTCWZVMGEK&lid=LSTMOBFUYQTCWZVMGEKGGKUAR&marketplace=FLIPKART&q=pixel+4A&store=tyy%2F4io&srno=s_1_12&otracker=search&otracker1=search&fm=SEARCH&iid=645c0f1a-8b7c-494f-9739-200c43e54bc2.MOBFUYQTCWZVMGEK.SEARCH&ppt=hp&ppn=homepage&ssid=3dtu3tchfk0000001639661621150&qH=9b26a23b2cff510d',\n",
       " 'https://www.flipkart.com/redmi-9a-nature-green-32-gb/p/itmeabd39a0cd669?pid=MOBFVDA5QCGNZKH9&lid=LSTMOBFVDA5QCGNZKH9FH7PUV&marketplace=FLIPKART&q=pixel+4A&store=tyy%2F4io&srno=s_1_13&otracker=search&otracker1=search&fm=SEARCH&iid=645c0f1a-8b7c-494f-9739-200c43e54bc2.MOBFVDA5QCGNZKH9.SEARCH&ppt=hp&ppn=homepage&ssid=3dtu3tchfk0000001639661621150&qH=9b26a23b2cff510d',\n",
       " 'https://www.flipkart.com/redmi-9a-seablue-32-gb/p/itmeabd39a0cd669?pid=MOBFVD9ZGTYR2WGR&lid=LSTMOBFVD9ZGTYR2WGRN5J449&marketplace=FLIPKART&q=pixel+4A&store=tyy%2F4io&srno=s_1_14&otracker=search&otracker1=search&fm=SEARCH&iid=645c0f1a-8b7c-494f-9739-200c43e54bc2.MOBFVD9ZGTYR2WGR.SEARCH&ppt=hp&ppn=homepage&ssid=3dtu3tchfk0000001639661621150&qH=9b26a23b2cff510d',\n",
       " 'https://www.flipkart.com/redmi-9a-midnight-black-32-gb/p/itmeabd39a0cd669?pid=MOBFVDA2RWTCFBHZ&lid=LSTMOBFVDA2RWTCFBHZL6SCWL&marketplace=FLIPKART&q=pixel+4A&store=tyy%2F4io&srno=s_1_15&otracker=search&otracker1=search&fm=SEARCH&iid=645c0f1a-8b7c-494f-9739-200c43e54bc2.MOBFVDA2RWTCFBHZ.SEARCH&ppt=hp&ppn=homepage&ssid=3dtu3tchfk0000001639661621150&qH=9b26a23b2cff510d',\n",
       " 'https://www.flipkart.com/tecno-spark-7-spruce-green-32-gb/p/itmb5ba6405b2fec?pid=MOBG4KA4TZEJJJPS&lid=LSTMOBG4KA4TZEJJJPSBBHMUZ&marketplace=FLIPKART&q=pixel+4A&store=tyy%2F4io&srno=s_1_16&otracker=search&otracker1=search&fm=SEARCH&iid=645c0f1a-8b7c-494f-9739-200c43e54bc2.MOBG4KA4TZEJJJPS.SEARCH&ppt=hp&ppn=homepage&ssid=3dtu3tchfk0000001639661621150&qH=9b26a23b2cff510d',\n",
       " 'https://www.flipkart.com/tecno-spark-7-magnet-black-32-gb/p/itmb5ba6405b2fec?pid=MOBG6FN2JPZXMAYU&lid=LSTMOBG6FN2JPZXMAYUXOIFKP&marketplace=FLIPKART&q=pixel+4A&store=tyy%2F4io&srno=s_1_17&otracker=search&otracker1=search&fm=SEARCH&iid=645c0f1a-8b7c-494f-9739-200c43e54bc2.MOBG6FN2JPZXMAYU.SEARCH&ppt=hp&ppn=homepage&ssid=3dtu3tchfk0000001639661621150&qH=9b26a23b2cff510d',\n",
       " 'https://www.flipkart.com/samsung-m21-2021/p/itmf27b10c82768d?pid=MOBG5FHYWJJMEFGJ&lid=LSTMOBG5FHYWJJMEFGJ7UPOFZ&marketplace=FLIPKART&q=pixel+4A&store=tyy%2F4io&srno=s_1_18&otracker=search&otracker1=search&fm=SEARCH&iid=645c0f1a-8b7c-494f-9739-200c43e54bc2.MOBG5FHYWJJMEFGJ.SEARCH&ppt=hp&ppn=homepage&ssid=3dtu3tchfk0000001639661621150&qH=9b26a23b2cff510d',\n",
       " 'https://www.flipkart.com/samsung-galaxy-m52-5g-blazing-black-128-gb/p/itm477d856655dad?pid=MOBG7H8ZHJMBWCTB&lid=LSTMOBG7H8ZHJMBWCTBCPECEX&marketplace=FLIPKART&q=pixel+4A&store=tyy%2F4io&srno=s_1_19&otracker=search&otracker1=search&fm=SEARCH&iid=645c0f1a-8b7c-494f-9739-200c43e54bc2.MOBG7H8ZHJMBWCTB.SEARCH&ppt=hp&ppn=homepage&ssid=3dtu3tchfk0000001639661621150&qH=9b26a23b2cff510d',\n",
       " 'https://www.flipkart.com/itel-a25-gradation-blue-16-gb/p/itm7f55d383ae904?pid=MOBFZM2U34WMZQTZ&lid=LSTMOBFZM2U34WMZQTZYSQPNB&marketplace=FLIPKART&q=pixel+4A&store=tyy%2F4io&srno=s_1_20&otracker=search&otracker1=search&fm=SEARCH&iid=645c0f1a-8b7c-494f-9739-200c43e54bc2.MOBFZM2U34WMZQTZ.SEARCH&ppt=hp&ppn=homepage&ssid=3dtu3tchfk0000001639661621150&qH=9b26a23b2cff510d',\n",
       " 'https://www.flipkart.com/redmi-note-10-pro-glacial-blue-128-gb/p/itm04ba1f0aed358?pid=MOBGFDFYE7TFYZKV&lid=LSTMOBGFDFYE7TFYZKVIOCVQQ&marketplace=FLIPKART&q=pixel+4A&store=tyy%2F4io&srno=s_1_21&otracker=search&otracker1=search&fm=SEARCH&iid=645c0f1a-8b7c-494f-9739-200c43e54bc2.MOBGFDFYE7TFYZKV.SEARCH&ppt=hp&ppn=homepage&ssid=3dtu3tchfk0000001639661621150&qH=9b26a23b2cff510d',\n",
       " 'https://www.flipkart.com/redmi-10-prime-astral-white-128-gb/p/itm9377b4c936baa?pid=MOBG6RGJGTKTUVD9&lid=LSTMOBG6RGJGTKTUVD9MNOAOD&marketplace=FLIPKART&q=pixel+4A&store=tyy%2F4io&srno=s_1_22&otracker=search&otracker1=search&fm=SEARCH&iid=645c0f1a-8b7c-494f-9739-200c43e54bc2.MOBG6RGJGTKTUVD9.SEARCH&ppt=hp&ppn=homepage&ssid=3dtu3tchfk0000001639661621150&qH=9b26a23b2cff510d',\n",
       " 'https://www.flipkart.com/tecno-spark-go-2021-galaxy-blue-32-gb/p/itm5c15f586b5925?pid=MOBG58WJU9W34R87&lid=LSTMOBG58WJU9W34R87PBOBY5&marketplace=FLIPKART&q=pixel+4A&store=tyy%2F4io&srno=s_1_23&otracker=search&otracker1=search&fm=SEARCH&iid=645c0f1a-8b7c-494f-9739-200c43e54bc2.MOBG58WJU9W34R87.SEARCH&ppt=hp&ppn=homepage&ssid=3dtu3tchfk0000001639661621150&qH=9b26a23b2cff510d',\n",
       " 'https://www.flipkart.com/oppo-a15s-dynamic-black-64-gb/p/itm8a26d15bdd39c?pid=MOBFZAQ476CBJPZP&lid=LSTMOBFZAQ476CBJPZP8RINRD&marketplace=FLIPKART&q=pixel+4A&store=tyy%2F4io&srno=s_1_24&otracker=search&otracker1=search&fm=SEARCH&iid=645c0f1a-8b7c-494f-9739-200c43e54bc2.MOBFZAQ476CBJPZP.SEARCH&ppt=hp&ppn=homepage&ssid=3dtu3tchfk0000001639661621150&qH=9b26a23b2cff510d']"
      ]
     },
     "execution_count": 26,
     "metadata": {},
     "output_type": "execute_result"
    }
   ],
   "source": [
    "links=[]\n",
    "for i in products:\n",
    "    p1=i.find_elements_by_tag_name('a')[-1]\n",
    "    links.append(p1.get_property('href'))\n",
    "links"
   ]
  },
  {
   "cell_type": "code",
   "execution_count": null,
   "id": "4a24c301",
   "metadata": {
    "scrolled": true
   },
   "outputs": [],
   "source": [
    "from tqdm import tqdm\n",
    "productdetails=[]\n",
    "for i in tqdm(links):\n",
    "    driver.get(i)\n",
    "    read_more=driver.find_element_by_xpath('//*[@id=\"container\"]/div/div[3]/div[1]/div[2]/div[8]/div[5]/div/div[2]/button').click()\n",
    "    Brand_Name=driver.find_element_by_xpath('//span[@class=\"B_NuCI\"]').text\n",
    "    Smartphone_name=driver.find_element_by_xpath('//*[@id=\"container\"]/div/div[3]/div[1]/div[2]/div[8]/div[5]/div/div[2]/div/div[1]/table/tbody/tr[3]/td[2]/ul/li').text\n",
    "    Colour=driver.find_element_by_xpath('//*[@id=\"container\"]/div/div[3]/div[1]/div[2]/div[8]/div[5]/div/div[2]/div[1]/div[1]/table/tbody/tr[4]/td[2]/ul/li').text\n",
    "    Ram=driver.find_element_by_xpath('//*[@id=\"container\"]/div/div[3]/div[1]/div[2]/div[8]/div[5]/div/div[2]/div[1]/div[4]/table/tbody/tr[2]/td[2]/ul/li').text\n",
    "    Rom=driver.find_element_by_xpath('//*[@id=\"container\"]/div/div[3]/div[1]/div[2]/div[8]/div[5]/div/div[2]/div[1]/div[4]/table/tbody/tr[1]/td[2]/ul/li').text\n",
    "    Primary_camera=driver.find_element_by_xpath('//*[@id=\"container\"]/div/div[3]/div[1]/div[2]/div[8]/div[5]/div/div[2]/div[1]/div[5]/table/tbody/tr[2]/td[2]/ul/li').text\n",
    "    Secondary_camera=driver.find_element_by_xpath('//*[@id=\"container\"]/div/div[3]/div[1]/div[2]/div[8]/div[5]/div/div[2]/div[1]/div[5]/table/tbody/tr[5]/td[2]/ul/li').text\n",
    "    Display_size=driver.find_element_by_xpath('//*[@id=\"container\"]/div/div[3]/div[1]/div[2]/div[8]/div[5]/div/div[2]/div[1]/div[2]/table/tbody/tr[1]/td[2]/ul/li').text\n",
    "    Display_resolution=driver.find_element_by_xpath('//*[@id=\"container\"]/div/div[3]/div[1]/div[2]/div[8]/div[5]/div/div[2]/div[1]/div[2]/table/tbody/tr[1]/td[2]/ul/li').text\n",
    "    processer=driver.find_element_by_xpath('/html/body/div[1]/div/div[3]/div[1]/div[2]/div[8]/div[5]/div/div[2]/div[1]/div[3]/table/tbody/tr[2]/td[2]/ul/li').text\n",
    "    processer_core=driver.find_element_by_xpath('///*[@id=\"container\"]/div/div[3]/div[1]/div[2]/div[8]/div[5]/div/div[2]/div[1]/div[3]/table/tbody/tr[3]/td[2]/ul/li').text\n",
    "    price=driver.find_element_by_xpath('//*[@id=\"container\"]/div/div[3]/div[1]/div[2]/div[2]/div/div[4]/div[1]/div/div[1]').text\n",
    "    temp={'Brand Name':Brand_Name,\n",
    "         'smartphone name':Smartphone_name,\n",
    "         'Colour':Colour,\n",
    "         'RAM':Ram,\n",
    "         'ROM':Rom,\n",
    "         'No of Ratings':Primary_camera,\n",
    "         'Secondary camera':Secondary_camera,\n",
    "         'Display_size':Display_size,\n",
    "         'Display resolution':Display_resolution,\n",
    "         'Processer':processer,\n",
    "         'Processer core':processer_core,\n",
    "         'Price':price,\n",
    "         'Product URL':i}\n",
    "    productdetails.append(temp)"
   ]
  },
  {
   "cell_type": "code",
   "execution_count": null,
   "id": "2950d2e7",
   "metadata": {},
   "outputs": [],
   "source": [
    "pd.DataFrame(productdetails)"
   ]
  }
 ],
 "metadata": {
  "kernelspec": {
   "display_name": "Python 3",
   "language": "python",
   "name": "python3"
  },
  "language_info": {
   "codemirror_mode": {
    "name": "ipython",
    "version": 3
   },
   "file_extension": ".py",
   "mimetype": "text/x-python",
   "name": "python",
   "nbconvert_exporter": "python",
   "pygments_lexer": "ipython3",
   "version": "3.8.8"
  }
 },
 "nbformat": 4,
 "nbformat_minor": 5
}
